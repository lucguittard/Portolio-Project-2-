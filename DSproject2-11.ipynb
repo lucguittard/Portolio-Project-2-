{
  "nbformat": 4,
  "nbformat_minor": 0,
  "metadata": {
    "colab": {
      "name": "DSproject2",
      "version": "0.3.2",
      "provenance": [],
      "collapsed_sections": [
        "2mCFB8nLQ8ln",
        "SAUKhZ9jxLZ3",
        "QgQzfCmFxagh",
        "yeEX9gNuDJzT",
        "dDtvyLL-Ru_G",
        "AF3qnlNDitaG",
        "u_SGNNma_HsF",
        "v6nKf7cbc0di",
        "cru4s5sbc3h8"
      ]
    },
    "kernelspec": {
      "display_name": "Python 3",
      "name": "python3"
    }
  },
  "cells": [
    {
      "cell_type": "markdown",
      "metadata": {
        "id": "S_y6UCGvxD6a",
        "colab_type": "text"
      },
      "source": [
        "## Authorizing access to G-Drive"
      ]
    },
    {
      "cell_type": "code",
      "metadata": {
        "id": "anXxwsg9d7dL",
        "colab_type": "code",
        "outputId": "6a4e2cea-d85d-4d95-ece3-dc7fcd1a334a",
        "colab": {
          "base_uri": "https://localhost:8080/",
          "height": 134
        }
      },
      "source": [
        "import pandas as pd\n",
        "from google.colab import drive\n",
        "drive.mount('/content/drive')\n"
      ],
      "execution_count": 2,
      "outputs": [
        {
          "output_type": "stream",
          "text": [
            "Go to this URL in a browser: https://accounts.google.com/o/oauth2/auth?client_id=947318989803-6bn6qk8qdgf4n4g3pfee6491hc0brc4i.apps.googleusercontent.com&redirect_uri=urn%3Aietf%3Awg%3Aoauth%3A2.0%3Aoob&scope=email%20https%3A%2F%2Fwww.googleapis.com%2Fauth%2Fdocs.test%20https%3A%2F%2Fwww.googleapis.com%2Fauth%2Fdrive%20https%3A%2F%2Fwww.googleapis.com%2Fauth%2Fdrive.photos.readonly%20https%3A%2F%2Fwww.googleapis.com%2Fauth%2Fpeopleapi.readonly&response_type=code\n",
            "\n",
            "Enter your authorization code:\n",
            "··········\n",
            "Mounted at /content/drive\n"
          ],
          "name": "stdout"
        }
      ]
    },
    {
      "cell_type": "markdown",
      "metadata": {
        "id": "2mCFB8nLQ8ln",
        "colab_type": "text"
      },
      "source": [
        "## Making a new df"
      ]
    },
    {
      "cell_type": "markdown",
      "metadata": {
        "id": "SAUKhZ9jxLZ3",
        "colab_type": "text"
      },
      "source": [
        "### Reading-In and Initial Edits "
      ]
    },
    {
      "cell_type": "code",
      "metadata": {
        "id": "VP7J3CWW9e8f",
        "colab_type": "code",
        "colab": {}
      },
      "source": [
        "path = \"/content/drive/My Drive/dsProject2/household-debt/household-debt-by-county.csv\"\n",
        "df = pd.read_csv(path)                         #2013-2017\n",
        "path2 = \"/content/drive/My Drive/dsProject2/Rural_Atlas_Update20/Income.csv\" \n",
        "df2 = pd.read_csv(path2, encoding='latin-1')   #2018-2019\n",
        "path = '/content/drive/My Drive/dsProject2/Rural_Atlas_Update20/County Classifications.csv'\n",
        "df3 = pd.read_csv(path, encoding='latin-1')    #2013-2015\n",
        "path4 = '/content/drive/My Drive/dsProject2/Rural_Atlas_Update20/Veterans.csv'\n",
        "df4 = pd.read_csv('/content/drive/My Drive/dsProject2/Rural_Atlas_Update20/Veterans.csv', encoding='latin-1') #2018-2019\n",
        "path5 = '/content/drive/My Drive/dsProject2/Rural_Atlas_Update20/People.csv'      #2010-2019\n",
        "df5 = pd.read_csv(path5, encoding='latin-1')\n",
        "path6 = '/content/drive/My Drive/dsProject2/Rural_Atlas_Update20/Jobs.csv'        #2018-2019\n",
        "df6 = pd.read_csv(path6, encoding='latin-1') \n",
        "path9 = '/content/drive/My Drive/dsProject2/2015CountyTypologyCodes.csv'          #2013-2015\n",
        "df9 = pd.read_csv(path9, encoding='latin-1')\n",
        "path10 = '/content/drive/My Drive/dsProject2/creativeclass200711.csv'             #2007-2011\n",
        "df10 = pd.read_csv(path10, encoding='latin-1')"
      ],
      "execution_count": 0,
      "outputs": []
    },
    {
      "cell_type": "code",
      "metadata": {
        "id": "NCTDHYIXU3Fd",
        "colab_type": "code",
        "colab": {}
      },
      "source": [
        "df = df.rename(columns = {\"area_fips\": \"FIPS\"})\n",
        "mask = (df['year'] > 2012)\n",
        "df = df[mask]\n",
        "\n",
        "df2 = df2.drop(0)\n",
        "\n",
        "df3 = df3.rename(columns = {'FIPStxt': 'FIPS'})\n",
        "df3 = df3[['FIPS','RuralUrbanContinuumCode2013','Low_Education_2015_update','Low_Employment_2015_update',\n",
        "           'Population_loss_2015_update', 'Metro_Adjacent2013']]\n",
        "\n",
        "df4 = df4.drop(0)\n",
        "df4 = df4[['FIPS','Vets18OPct','MaleVetsPct','PctVetsPoor','PctNonVetsPoor','PctVetsDisabilty','PctNonVetsDisabilty']]\n",
        "\n",
        "df5 = df5.drop(0)\n",
        "df5 = df5[['FIPS','PopChangeRate1018','NetMigrationRate1018','PopDensity2010','Under18Pct2010','Age65AndOlderPct2010','ForeignBornPct']]\n",
        "\n",
        "df6 = df6.drop(0)\n",
        "df6 = df6[['FIPS','UnempRate2018','UnempRate2015','PctEmpChange1018','PctEmpAgriculture','PctEmpMining','PctEmpConstruction','PctEmpManufacturing',\n",
        "          'PctEmpTrade','PctEmpTrans','PctEmpInformation','PctEmpFIRE','PctEmpServices','PctEmpGovt']]\n",
        "\n",
        "df9 = df9.rename(columns = {'FIPStxt': 'FIPS'})\n",
        "df9 = df9[['FIPS','Metro-nonmetro status, 2013 0=Nonmetro 1=Metro','Persistent_Poverty_2013',\n",
        "           'Persistent_Related_Child_Poverty_2013','Economic_Type_Label','Economic Types Type_2015_Update non-overlapping']]\n",
        "\n",
        "df10 = df10[['FIPS','CCShare','CCShareSE','BohShare','BohShareSE','CCShareRME','BohShareRME','metro03']]"
      ],
      "execution_count": 0,
      "outputs": []
    },
    {
      "cell_type": "markdown",
      "metadata": {
        "id": "QgQzfCmFxagh",
        "colab_type": "text"
      },
      "source": [
        "### Merging County-lvl. Data"
      ]
    },
    {
      "cell_type": "code",
      "metadata": {
        "id": "_Nrv-nZSYxY5",
        "colab_type": "code",
        "outputId": "8e21ece0-fc9a-4509-fbb5-0a55846912d7",
        "colab": {
          "base_uri": "https://localhost:8080/",
          "height": 232
        }
      },
      "source": [
        "merge1 = pd.merge(df,df2, on='FIPS')\n",
        "merge2 = pd.merge(merge1,df3,on='FIPS')\n",
        "merge3 = pd.merge(merge2,df4, on = 'FIPS')\n",
        "merge4 = pd.merge(merge3,df5, on = 'FIPS')\n",
        "merge5 = pd.merge(merge4,df6, on = 'FIPS')\n",
        "merge6 = pd.merge(merge5,df9, on = 'FIPS')\n",
        "merge7 = pd.merge(merge6,df10, on = 'FIPS')\n",
        "\n",
        "merge7.to_csv('/content/drive/My Drive/dsProject2/merge7.csv', index = False)\n",
        "merge7.shape"
      ],
      "execution_count": 0,
      "outputs": [
        {
          "output_type": "error",
          "ename": "NameError",
          "evalue": "ignored",
          "traceback": [
            "\u001b[0;31m---------------------------------------------------------------------------\u001b[0m",
            "\u001b[0;31mNameError\u001b[0m                                 Traceback (most recent call last)",
            "\u001b[0;32m<ipython-input-5-86485b9907fc>\u001b[0m in \u001b[0;36m<module>\u001b[0;34m()\u001b[0m\n\u001b[0;32m----> 1\u001b[0;31m \u001b[0mmerge1\u001b[0m \u001b[0;34m=\u001b[0m \u001b[0mpd\u001b[0m\u001b[0;34m.\u001b[0m\u001b[0mmerge\u001b[0m\u001b[0;34m(\u001b[0m\u001b[0mdf\u001b[0m\u001b[0;34m,\u001b[0m\u001b[0mdf2\u001b[0m\u001b[0;34m,\u001b[0m \u001b[0mon\u001b[0m\u001b[0;34m=\u001b[0m\u001b[0;34m'FIPS'\u001b[0m\u001b[0;34m)\u001b[0m\u001b[0;34m\u001b[0m\u001b[0;34m\u001b[0m\u001b[0m\n\u001b[0m\u001b[1;32m      2\u001b[0m \u001b[0mmerge2\u001b[0m \u001b[0;34m=\u001b[0m \u001b[0mpd\u001b[0m\u001b[0;34m.\u001b[0m\u001b[0mmerge\u001b[0m\u001b[0;34m(\u001b[0m\u001b[0mmerge1\u001b[0m\u001b[0;34m,\u001b[0m\u001b[0mdf3\u001b[0m\u001b[0;34m,\u001b[0m\u001b[0mon\u001b[0m\u001b[0;34m=\u001b[0m\u001b[0;34m'FIPS'\u001b[0m\u001b[0;34m)\u001b[0m\u001b[0;34m\u001b[0m\u001b[0;34m\u001b[0m\u001b[0m\n\u001b[1;32m      3\u001b[0m \u001b[0mmerge3\u001b[0m \u001b[0;34m=\u001b[0m \u001b[0mpd\u001b[0m\u001b[0;34m.\u001b[0m\u001b[0mmerge\u001b[0m\u001b[0;34m(\u001b[0m\u001b[0mmerge2\u001b[0m\u001b[0;34m,\u001b[0m\u001b[0mdf4\u001b[0m\u001b[0;34m,\u001b[0m \u001b[0mon\u001b[0m \u001b[0;34m=\u001b[0m \u001b[0;34m'FIPS'\u001b[0m\u001b[0;34m)\u001b[0m\u001b[0;34m\u001b[0m\u001b[0;34m\u001b[0m\u001b[0m\n\u001b[1;32m      4\u001b[0m \u001b[0mmerge4\u001b[0m \u001b[0;34m=\u001b[0m \u001b[0mpd\u001b[0m\u001b[0;34m.\u001b[0m\u001b[0mmerge\u001b[0m\u001b[0;34m(\u001b[0m\u001b[0mmerge3\u001b[0m\u001b[0;34m,\u001b[0m\u001b[0mdf5\u001b[0m\u001b[0;34m,\u001b[0m \u001b[0mon\u001b[0m \u001b[0;34m=\u001b[0m \u001b[0;34m'FIPS'\u001b[0m\u001b[0;34m)\u001b[0m\u001b[0;34m\u001b[0m\u001b[0;34m\u001b[0m\u001b[0m\n\u001b[1;32m      5\u001b[0m \u001b[0mmerge5\u001b[0m \u001b[0;34m=\u001b[0m \u001b[0mpd\u001b[0m\u001b[0;34m.\u001b[0m\u001b[0mmerge\u001b[0m\u001b[0;34m(\u001b[0m\u001b[0mmerge4\u001b[0m\u001b[0;34m,\u001b[0m\u001b[0mdf6\u001b[0m\u001b[0;34m,\u001b[0m \u001b[0mon\u001b[0m \u001b[0;34m=\u001b[0m \u001b[0;34m'FIPS'\u001b[0m\u001b[0;34m)\u001b[0m\u001b[0;34m\u001b[0m\u001b[0;34m\u001b[0m\u001b[0m\n",
            "\u001b[0;31mNameError\u001b[0m: name 'df' is not defined"
          ]
        }
      ]
    },
    {
      "cell_type": "markdown",
      "metadata": {
        "id": "nfAnQJWJxh38",
        "colab_type": "text"
      },
      "source": [
        "## Work on full dataset"
      ]
    },
    {
      "cell_type": "code",
      "metadata": {
        "id": "IkxmY3AHeRx3",
        "colab_type": "code",
        "outputId": "e0e36afb-a51c-4586-abb3-611bc62e63c4",
        "colab": {
          "base_uri": "https://localhost:8080/",
          "height": 86
        }
      },
      "source": [
        "import pandas as pd\n",
        "import numpy as np\n",
        "from sklearn.model_selection import train_test_split\n",
        "dfv = pd.read_csv('/content/drive/My Drive/dsProject2/merge7.csv')\n",
        "dfv = dfv.drop(columns = ['State', 'County'])"
      ],
      "execution_count": 3,
      "outputs": [
        {
          "output_type": "stream",
          "text": [
            "/usr/local/lib/python3.6/dist-packages/IPython/core/interactiveshell.py:2718: DtypeWarning: Columns (51,52,53,54,55,56) have mixed types. Specify dtype option on import or set low_memory=False.\n",
            "  interactivity=interactivity, compiler=compiler, result=result)\n"
          ],
          "name": "stderr"
        }
      ]
    },
    {
      "cell_type": "code",
      "metadata": {
        "id": "vPigMfOdrNbz",
        "colab_type": "code",
        "outputId": "876557b8-b7e9-41e0-c454-1b35e8fd633b",
        "colab": {
          "base_uri": "https://localhost:8080/",
          "height": 324
        }
      },
      "source": [
        "dfv.head()"
      ],
      "execution_count": 4,
      "outputs": [
        {
          "output_type": "execute_result",
          "data": {
            "text/html": [
              "<div>\n",
              "<style scoped>\n",
              "    .dataframe tbody tr th:only-of-type {\n",
              "        vertical-align: middle;\n",
              "    }\n",
              "\n",
              "    .dataframe tbody tr th {\n",
              "        vertical-align: top;\n",
              "    }\n",
              "\n",
              "    .dataframe thead th {\n",
              "        text-align: right;\n",
              "    }\n",
              "</style>\n",
              "<table border=\"1\" class=\"dataframe\">\n",
              "  <thead>\n",
              "    <tr style=\"text-align: right;\">\n",
              "      <th></th>\n",
              "      <th>year</th>\n",
              "      <th>qtr</th>\n",
              "      <th>FIPS</th>\n",
              "      <th>low</th>\n",
              "      <th>high</th>\n",
              "      <th>MedHHInc</th>\n",
              "      <th>PerCapitaInc</th>\n",
              "      <th>PovertyUnder18Pct</th>\n",
              "      <th>PovertyAllAgesPct</th>\n",
              "      <th>Deep_Pov_All</th>\n",
              "      <th>Deep_Pov_Children</th>\n",
              "      <th>PovertyUnder18Num</th>\n",
              "      <th>PovertyAllAgesNum</th>\n",
              "      <th>RuralUrbanContinuumCode2013</th>\n",
              "      <th>Type_2015_Update</th>\n",
              "      <th>Low_Education_2015_update</th>\n",
              "      <th>Low_Employment_2015_update</th>\n",
              "      <th>Population_loss_2015_update</th>\n",
              "      <th>Metro_Adjacent2013</th>\n",
              "      <th>Vets18OPct</th>\n",
              "      <th>MaleVetsPct</th>\n",
              "      <th>PctVetsPoor</th>\n",
              "      <th>PctNonVetsPoor</th>\n",
              "      <th>PctVetsDisabilty</th>\n",
              "      <th>PctNonVetsDisabilty</th>\n",
              "      <th>PopChangeRate1018</th>\n",
              "      <th>NetMigrationRate1018</th>\n",
              "      <th>PopDensity2010</th>\n",
              "      <th>Under18Pct2010</th>\n",
              "      <th>Age65AndOlderPct2010</th>\n",
              "      <th>ForeignBornPct</th>\n",
              "      <th>UnempRate2018</th>\n",
              "      <th>UnempRate2015</th>\n",
              "      <th>PctEmpChange1018</th>\n",
              "      <th>PctEmpAgriculture</th>\n",
              "      <th>PctEmpMining</th>\n",
              "      <th>PctEmpConstruction</th>\n",
              "      <th>PctEmpManufacturing</th>\n",
              "      <th>PctEmpTrade</th>\n",
              "      <th>PctEmpTrans</th>\n",
              "      <th>PctEmpInformation</th>\n",
              "      <th>PctEmpFIRE</th>\n",
              "      <th>PctEmpServices</th>\n",
              "      <th>PctEmpGovt</th>\n",
              "      <th>Metro-nonmetro status, 2013 0=Nonmetro 1=Metro</th>\n",
              "      <th>Persistent_Poverty_2013</th>\n",
              "      <th>Persistent_Related_Child_Poverty_2013</th>\n",
              "      <th>Economic_Type_Label</th>\n",
              "      <th>Economic Types Type_2015_Update non-overlapping</th>\n",
              "      <th>CCShare</th>\n",
              "      <th>CCShareSE</th>\n",
              "      <th>BohShare</th>\n",
              "      <th>BohShareSE</th>\n",
              "      <th>CCShareRME</th>\n",
              "      <th>BohShareRME</th>\n",
              "      <th>metro03</th>\n",
              "    </tr>\n",
              "  </thead>\n",
              "  <tbody>\n",
              "    <tr>\n",
              "      <th>0</th>\n",
              "      <td>2013</td>\n",
              "      <td>1</td>\n",
              "      <td>1001</td>\n",
              "      <td>3.46</td>\n",
              "      <td>NaN</td>\n",
              "      <td>58343.0</td>\n",
              "      <td>27824.0</td>\n",
              "      <td>19.3</td>\n",
              "      <td>13.4</td>\n",
              "      <td>5.85432</td>\n",
              "      <td>9.668756</td>\n",
              "      <td>2542.0</td>\n",
              "      <td>7390.0</td>\n",
              "      <td>2.0</td>\n",
              "      <td>0.0</td>\n",
              "      <td>0.0</td>\n",
              "      <td>0.0</td>\n",
              "      <td>0.0</td>\n",
              "      <td>0.0</td>\n",
              "      <td>12.562753</td>\n",
              "      <td>89.544132</td>\n",
              "      <td>3.43461</td>\n",
              "      <td>13.985967</td>\n",
              "      <td>18.626156</td>\n",
              "      <td>15.676579</td>\n",
              "      <td>1.55</td>\n",
              "      <td>0.28</td>\n",
              "      <td>91.8</td>\n",
              "      <td>26.78</td>\n",
              "      <td>12.0</td>\n",
              "      <td>2.113162</td>\n",
              "      <td>3.6</td>\n",
              "      <td>5.0</td>\n",
              "      <td>6.76</td>\n",
              "      <td>0.605508</td>\n",
              "      <td>0.315196</td>\n",
              "      <td>5.134373</td>\n",
              "      <td>13.321168</td>\n",
              "      <td>12.881553</td>\n",
              "      <td>7.436131</td>\n",
              "      <td>1.671367</td>\n",
              "      <td>5.573988</td>\n",
              "      <td>41.908593</td>\n",
              "      <td>11.152123</td>\n",
              "      <td>1</td>\n",
              "      <td>0</td>\n",
              "      <td>0</td>\n",
              "      <td>Nonspecialized</td>\n",
              "      <td>0</td>\n",
              "      <td>0.23529</td>\n",
              "      <td>0.01264</td>\n",
              "      <td>0.0058</td>\n",
              "      <td>0.00168</td>\n",
              "      <td>0.02079</td>\n",
              "      <td>0.00277</td>\n",
              "      <td>1</td>\n",
              "    </tr>\n",
              "    <tr>\n",
              "      <th>1</th>\n",
              "      <td>2013</td>\n",
              "      <td>2</td>\n",
              "      <td>1001</td>\n",
              "      <td>3.46</td>\n",
              "      <td>NaN</td>\n",
              "      <td>58343.0</td>\n",
              "      <td>27824.0</td>\n",
              "      <td>19.3</td>\n",
              "      <td>13.4</td>\n",
              "      <td>5.85432</td>\n",
              "      <td>9.668756</td>\n",
              "      <td>2542.0</td>\n",
              "      <td>7390.0</td>\n",
              "      <td>2.0</td>\n",
              "      <td>0.0</td>\n",
              "      <td>0.0</td>\n",
              "      <td>0.0</td>\n",
              "      <td>0.0</td>\n",
              "      <td>0.0</td>\n",
              "      <td>12.562753</td>\n",
              "      <td>89.544132</td>\n",
              "      <td>3.43461</td>\n",
              "      <td>13.985967</td>\n",
              "      <td>18.626156</td>\n",
              "      <td>15.676579</td>\n",
              "      <td>1.55</td>\n",
              "      <td>0.28</td>\n",
              "      <td>91.8</td>\n",
              "      <td>26.78</td>\n",
              "      <td>12.0</td>\n",
              "      <td>2.113162</td>\n",
              "      <td>3.6</td>\n",
              "      <td>5.0</td>\n",
              "      <td>6.76</td>\n",
              "      <td>0.605508</td>\n",
              "      <td>0.315196</td>\n",
              "      <td>5.134373</td>\n",
              "      <td>13.321168</td>\n",
              "      <td>12.881553</td>\n",
              "      <td>7.436131</td>\n",
              "      <td>1.671367</td>\n",
              "      <td>5.573988</td>\n",
              "      <td>41.908593</td>\n",
              "      <td>11.152123</td>\n",
              "      <td>1</td>\n",
              "      <td>0</td>\n",
              "      <td>0</td>\n",
              "      <td>Nonspecialized</td>\n",
              "      <td>0</td>\n",
              "      <td>0.23529</td>\n",
              "      <td>0.01264</td>\n",
              "      <td>0.0058</td>\n",
              "      <td>0.00168</td>\n",
              "      <td>0.02079</td>\n",
              "      <td>0.00277</td>\n",
              "      <td>1</td>\n",
              "    </tr>\n",
              "    <tr>\n",
              "      <th>2</th>\n",
              "      <td>2013</td>\n",
              "      <td>3</td>\n",
              "      <td>1001</td>\n",
              "      <td>3.46</td>\n",
              "      <td>NaN</td>\n",
              "      <td>58343.0</td>\n",
              "      <td>27824.0</td>\n",
              "      <td>19.3</td>\n",
              "      <td>13.4</td>\n",
              "      <td>5.85432</td>\n",
              "      <td>9.668756</td>\n",
              "      <td>2542.0</td>\n",
              "      <td>7390.0</td>\n",
              "      <td>2.0</td>\n",
              "      <td>0.0</td>\n",
              "      <td>0.0</td>\n",
              "      <td>0.0</td>\n",
              "      <td>0.0</td>\n",
              "      <td>0.0</td>\n",
              "      <td>12.562753</td>\n",
              "      <td>89.544132</td>\n",
              "      <td>3.43461</td>\n",
              "      <td>13.985967</td>\n",
              "      <td>18.626156</td>\n",
              "      <td>15.676579</td>\n",
              "      <td>1.55</td>\n",
              "      <td>0.28</td>\n",
              "      <td>91.8</td>\n",
              "      <td>26.78</td>\n",
              "      <td>12.0</td>\n",
              "      <td>2.113162</td>\n",
              "      <td>3.6</td>\n",
              "      <td>5.0</td>\n",
              "      <td>6.76</td>\n",
              "      <td>0.605508</td>\n",
              "      <td>0.315196</td>\n",
              "      <td>5.134373</td>\n",
              "      <td>13.321168</td>\n",
              "      <td>12.881553</td>\n",
              "      <td>7.436131</td>\n",
              "      <td>1.671367</td>\n",
              "      <td>5.573988</td>\n",
              "      <td>41.908593</td>\n",
              "      <td>11.152123</td>\n",
              "      <td>1</td>\n",
              "      <td>0</td>\n",
              "      <td>0</td>\n",
              "      <td>Nonspecialized</td>\n",
              "      <td>0</td>\n",
              "      <td>0.23529</td>\n",
              "      <td>0.01264</td>\n",
              "      <td>0.0058</td>\n",
              "      <td>0.00168</td>\n",
              "      <td>0.02079</td>\n",
              "      <td>0.00277</td>\n",
              "      <td>1</td>\n",
              "    </tr>\n",
              "    <tr>\n",
              "      <th>3</th>\n",
              "      <td>2013</td>\n",
              "      <td>4</td>\n",
              "      <td>1001</td>\n",
              "      <td>3.46</td>\n",
              "      <td>NaN</td>\n",
              "      <td>58343.0</td>\n",
              "      <td>27824.0</td>\n",
              "      <td>19.3</td>\n",
              "      <td>13.4</td>\n",
              "      <td>5.85432</td>\n",
              "      <td>9.668756</td>\n",
              "      <td>2542.0</td>\n",
              "      <td>7390.0</td>\n",
              "      <td>2.0</td>\n",
              "      <td>0.0</td>\n",
              "      <td>0.0</td>\n",
              "      <td>0.0</td>\n",
              "      <td>0.0</td>\n",
              "      <td>0.0</td>\n",
              "      <td>12.562753</td>\n",
              "      <td>89.544132</td>\n",
              "      <td>3.43461</td>\n",
              "      <td>13.985967</td>\n",
              "      <td>18.626156</td>\n",
              "      <td>15.676579</td>\n",
              "      <td>1.55</td>\n",
              "      <td>0.28</td>\n",
              "      <td>91.8</td>\n",
              "      <td>26.78</td>\n",
              "      <td>12.0</td>\n",
              "      <td>2.113162</td>\n",
              "      <td>3.6</td>\n",
              "      <td>5.0</td>\n",
              "      <td>6.76</td>\n",
              "      <td>0.605508</td>\n",
              "      <td>0.315196</td>\n",
              "      <td>5.134373</td>\n",
              "      <td>13.321168</td>\n",
              "      <td>12.881553</td>\n",
              "      <td>7.436131</td>\n",
              "      <td>1.671367</td>\n",
              "      <td>5.573988</td>\n",
              "      <td>41.908593</td>\n",
              "      <td>11.152123</td>\n",
              "      <td>1</td>\n",
              "      <td>0</td>\n",
              "      <td>0</td>\n",
              "      <td>Nonspecialized</td>\n",
              "      <td>0</td>\n",
              "      <td>0.23529</td>\n",
              "      <td>0.01264</td>\n",
              "      <td>0.0058</td>\n",
              "      <td>0.00168</td>\n",
              "      <td>0.02079</td>\n",
              "      <td>0.00277</td>\n",
              "      <td>1</td>\n",
              "    </tr>\n",
              "    <tr>\n",
              "      <th>4</th>\n",
              "      <td>2014</td>\n",
              "      <td>1</td>\n",
              "      <td>1001</td>\n",
              "      <td>3.46</td>\n",
              "      <td>NaN</td>\n",
              "      <td>58343.0</td>\n",
              "      <td>27824.0</td>\n",
              "      <td>19.3</td>\n",
              "      <td>13.4</td>\n",
              "      <td>5.85432</td>\n",
              "      <td>9.668756</td>\n",
              "      <td>2542.0</td>\n",
              "      <td>7390.0</td>\n",
              "      <td>2.0</td>\n",
              "      <td>0.0</td>\n",
              "      <td>0.0</td>\n",
              "      <td>0.0</td>\n",
              "      <td>0.0</td>\n",
              "      <td>0.0</td>\n",
              "      <td>12.562753</td>\n",
              "      <td>89.544132</td>\n",
              "      <td>3.43461</td>\n",
              "      <td>13.985967</td>\n",
              "      <td>18.626156</td>\n",
              "      <td>15.676579</td>\n",
              "      <td>1.55</td>\n",
              "      <td>0.28</td>\n",
              "      <td>91.8</td>\n",
              "      <td>26.78</td>\n",
              "      <td>12.0</td>\n",
              "      <td>2.113162</td>\n",
              "      <td>3.6</td>\n",
              "      <td>5.0</td>\n",
              "      <td>6.76</td>\n",
              "      <td>0.605508</td>\n",
              "      <td>0.315196</td>\n",
              "      <td>5.134373</td>\n",
              "      <td>13.321168</td>\n",
              "      <td>12.881553</td>\n",
              "      <td>7.436131</td>\n",
              "      <td>1.671367</td>\n",
              "      <td>5.573988</td>\n",
              "      <td>41.908593</td>\n",
              "      <td>11.152123</td>\n",
              "      <td>1</td>\n",
              "      <td>0</td>\n",
              "      <td>0</td>\n",
              "      <td>Nonspecialized</td>\n",
              "      <td>0</td>\n",
              "      <td>0.23529</td>\n",
              "      <td>0.01264</td>\n",
              "      <td>0.0058</td>\n",
              "      <td>0.00168</td>\n",
              "      <td>0.02079</td>\n",
              "      <td>0.00277</td>\n",
              "      <td>1</td>\n",
              "    </tr>\n",
              "  </tbody>\n",
              "</table>\n",
              "</div>"
            ],
            "text/plain": [
              "   year  qtr  FIPS   low  ...  BohShareSE  CCShareRME  BohShareRME  metro03\n",
              "0  2013    1  1001  3.46  ...     0.00168     0.02079      0.00277        1\n",
              "1  2013    2  1001  3.46  ...     0.00168     0.02079      0.00277        1\n",
              "2  2013    3  1001  3.46  ...     0.00168     0.02079      0.00277        1\n",
              "3  2013    4  1001  3.46  ...     0.00168     0.02079      0.00277        1\n",
              "4  2014    1  1001  3.46  ...     0.00168     0.02079      0.00277        1\n",
              "\n",
              "[5 rows x 56 columns]"
            ]
          },
          "metadata": {
            "tags": []
          },
          "execution_count": 4
        }
      ]
    },
    {
      "cell_type": "markdown",
      "metadata": {
        "id": "6u2ooPHQxAwX",
        "colab_type": "text"
      },
      "source": [
        "### Baseline \n",
        "Want to predict debt rates (here, the low-end estimate) - much data missing for high-end"
      ]
    },
    {
      "cell_type": "code",
      "metadata": {
        "id": "H_Emq9rFxGSE",
        "colab_type": "code",
        "outputId": "f0618066-a468-4f86-9f4e-f401debe74e3",
        "colab": {
          "base_uri": "https://localhost:8080/",
          "height": 68
        }
      },
      "source": [
        "dfv['low'] = pd.cut(dfv['low'],2,labels = False) #specify 2 class. for binary set -> use w/ ROC-AUC\n",
        "dfv['low'].value_counts(normalize=True) \n",
        "#baseline (majority class) = 0.404 \n",
        "# classes are imbalanced -> tryout ROC, class_weight param (scikit learn), oversamp techniques"
      ],
      "execution_count": 47,
      "outputs": [
        {
          "output_type": "execute_result",
          "data": {
            "text/plain": [
              "0    0.708627\n",
              "1    0.291373\n",
              "Name: low, dtype: float64"
            ]
          },
          "metadata": {
            "tags": []
          },
          "execution_count": 47
        }
      ]
    },
    {
      "cell_type": "markdown",
      "metadata": {
        "id": "yeEX9gNuDJzT",
        "colab_type": "text"
      },
      "source": [
        "### Exploratory visuals"
      ]
    },
    {
      "cell_type": "code",
      "metadata": {
        "id": "Si30Kc-xDOtj",
        "colab_type": "code",
        "colab": {}
      },
      "source": [
        ""
      ],
      "execution_count": 0,
      "outputs": []
    },
    {
      "cell_type": "markdown",
      "metadata": {
        "id": "dDtvyLL-Ru_G",
        "colab_type": "text"
      },
      "source": [
        "### Split + Data Wrangling\n"
      ]
    },
    {
      "cell_type": "code",
      "metadata": {
        "id": "zHEUMwu5rv6A",
        "colab_type": "code",
        "outputId": "fb890e58-ab82-4363-c2c7-df06dc8cf072",
        "colab": {
          "base_uri": "https://localhost:8080/",
          "height": 119
        }
      },
      "source": [
        "dfv.year.value_counts()"
      ],
      "execution_count": 6,
      "outputs": [
        {
          "output_type": "execute_result",
          "data": {
            "text/plain": [
              "2014    12532\n",
              "2013    12532\n",
              "2015    12531\n",
              "2017    12530\n",
              "2016    12530\n",
              "Name: year, dtype: int64"
            ]
          },
          "metadata": {
            "tags": []
          },
          "execution_count": 6
        }
      ]
    },
    {
      "cell_type": "code",
      "metadata": {
        "id": "8KKr7g_lsa34",
        "colab_type": "code",
        "outputId": "eea52403-5c6f-45cb-ebc6-59b1e6bd1df4",
        "colab": {
          "base_uri": "https://localhost:8080/",
          "height": 34
        }
      },
      "source": [
        "dfv.high.isna().sum()"
      ],
      "execution_count": 7,
      "outputs": [
        {
          "output_type": "execute_result",
          "data": {
            "text/plain": [
              "5629"
            ]
          },
          "metadata": {
            "tags": []
          },
          "execution_count": 7
        }
      ]
    },
    {
      "cell_type": "code",
      "metadata": {
        "id": "gwnamKufsBl-",
        "colab_type": "code",
        "outputId": "3762da8f-3d1a-4e07-d77f-4358344f8ec4",
        "colab": {
          "base_uri": "https://localhost:8080/",
          "height": 417
        }
      },
      "source": [
        "dfv.describe() #search for outliers"
      ],
      "execution_count": 8,
      "outputs": [
        {
          "output_type": "execute_result",
          "data": {
            "text/html": [
              "<div>\n",
              "<style scoped>\n",
              "    .dataframe tbody tr th:only-of-type {\n",
              "        vertical-align: middle;\n",
              "    }\n",
              "\n",
              "    .dataframe tbody tr th {\n",
              "        vertical-align: top;\n",
              "    }\n",
              "\n",
              "    .dataframe thead th {\n",
              "        text-align: right;\n",
              "    }\n",
              "</style>\n",
              "<table border=\"1\" class=\"dataframe\">\n",
              "  <thead>\n",
              "    <tr style=\"text-align: right;\">\n",
              "      <th></th>\n",
              "      <th>year</th>\n",
              "      <th>qtr</th>\n",
              "      <th>FIPS</th>\n",
              "      <th>low</th>\n",
              "      <th>high</th>\n",
              "      <th>MedHHInc</th>\n",
              "      <th>PerCapitaInc</th>\n",
              "      <th>PovertyUnder18Pct</th>\n",
              "      <th>PovertyAllAgesPct</th>\n",
              "      <th>Deep_Pov_All</th>\n",
              "      <th>Deep_Pov_Children</th>\n",
              "      <th>PovertyUnder18Num</th>\n",
              "      <th>PovertyAllAgesNum</th>\n",
              "      <th>RuralUrbanContinuumCode2013</th>\n",
              "      <th>Type_2015_Update</th>\n",
              "      <th>Low_Education_2015_update</th>\n",
              "      <th>Low_Employment_2015_update</th>\n",
              "      <th>Population_loss_2015_update</th>\n",
              "      <th>Metro_Adjacent2013</th>\n",
              "      <th>Vets18OPct</th>\n",
              "      <th>MaleVetsPct</th>\n",
              "      <th>PctVetsPoor</th>\n",
              "      <th>PctNonVetsPoor</th>\n",
              "      <th>PctVetsDisabilty</th>\n",
              "      <th>PctNonVetsDisabilty</th>\n",
              "      <th>PopChangeRate1018</th>\n",
              "      <th>NetMigrationRate1018</th>\n",
              "      <th>PopDensity2010</th>\n",
              "      <th>Under18Pct2010</th>\n",
              "      <th>Age65AndOlderPct2010</th>\n",
              "      <th>ForeignBornPct</th>\n",
              "      <th>UnempRate2018</th>\n",
              "      <th>UnempRate2015</th>\n",
              "      <th>PctEmpChange1018</th>\n",
              "      <th>PctEmpAgriculture</th>\n",
              "      <th>PctEmpMining</th>\n",
              "      <th>PctEmpConstruction</th>\n",
              "      <th>PctEmpManufacturing</th>\n",
              "      <th>PctEmpTrade</th>\n",
              "      <th>PctEmpTrans</th>\n",
              "      <th>PctEmpInformation</th>\n",
              "      <th>PctEmpFIRE</th>\n",
              "      <th>PctEmpServices</th>\n",
              "      <th>PctEmpGovt</th>\n",
              "      <th>Metro-nonmetro status, 2013 0=Nonmetro 1=Metro</th>\n",
              "      <th>Persistent_Poverty_2013</th>\n",
              "      <th>Persistent_Related_Child_Poverty_2013</th>\n",
              "      <th>Economic Types Type_2015_Update non-overlapping</th>\n",
              "      <th>metro03</th>\n",
              "    </tr>\n",
              "  </thead>\n",
              "  <tbody>\n",
              "    <tr>\n",
              "      <th>count</th>\n",
              "      <td>62655.000000</td>\n",
              "      <td>62655.000000</td>\n",
              "      <td>62655.000000</td>\n",
              "      <td>62655.000000</td>\n",
              "      <td>57026.000000</td>\n",
              "      <td>62655.000000</td>\n",
              "      <td>62655.000000</td>\n",
              "      <td>62655.000000</td>\n",
              "      <td>62655.000000</td>\n",
              "      <td>62655.000000</td>\n",
              "      <td>62655.000000</td>\n",
              "      <td>62655.000000</td>\n",
              "      <td>6.265500e+04</td>\n",
              "      <td>62655.000000</td>\n",
              "      <td>62655.000000</td>\n",
              "      <td>62655.000000</td>\n",
              "      <td>62655.000000</td>\n",
              "      <td>62655.000000</td>\n",
              "      <td>62655.000000</td>\n",
              "      <td>62655.000000</td>\n",
              "      <td>62635.000000</td>\n",
              "      <td>62633.000000</td>\n",
              "      <td>62655.000000</td>\n",
              "      <td>62633.000000</td>\n",
              "      <td>62655.000000</td>\n",
              "      <td>62655.000000</td>\n",
              "      <td>62655.000000</td>\n",
              "      <td>62655.000000</td>\n",
              "      <td>62655.000000</td>\n",
              "      <td>62655.000000</td>\n",
              "      <td>62655.000000</td>\n",
              "      <td>62655.000000</td>\n",
              "      <td>62655.000000</td>\n",
              "      <td>62655.000000</td>\n",
              "      <td>62655.000000</td>\n",
              "      <td>62655.000000</td>\n",
              "      <td>62655.000000</td>\n",
              "      <td>62655.000000</td>\n",
              "      <td>62655.000000</td>\n",
              "      <td>62655.000000</td>\n",
              "      <td>62655.000000</td>\n",
              "      <td>62655.000000</td>\n",
              "      <td>62655.000000</td>\n",
              "      <td>62655.000000</td>\n",
              "      <td>62655.000000</td>\n",
              "      <td>62655.000000</td>\n",
              "      <td>62655.000000</td>\n",
              "      <td>62655.000000</td>\n",
              "      <td>62655.000000</td>\n",
              "    </tr>\n",
              "    <tr>\n",
              "      <th>mean</th>\n",
              "      <td>2014.999904</td>\n",
              "      <td>2.499912</td>\n",
              "      <td>30434.477903</td>\n",
              "      <td>1.788828</td>\n",
              "      <td>1.784266</td>\n",
              "      <td>51090.927859</td>\n",
              "      <td>26028.989466</td>\n",
              "      <td>21.539181</td>\n",
              "      <td>15.369999</td>\n",
              "      <td>6.837130</td>\n",
              "      <td>9.862390</td>\n",
              "      <td>4260.963642</td>\n",
              "      <td>1.358945e+04</td>\n",
              "      <td>4.999745</td>\n",
              "      <td>1.803224</td>\n",
              "      <td>0.149070</td>\n",
              "      <td>0.288501</td>\n",
              "      <td>0.168191</td>\n",
              "      <td>0.325529</td>\n",
              "      <td>9.131256</td>\n",
              "      <td>93.251904</td>\n",
              "      <td>10.292955</td>\n",
              "      <td>15.725721</td>\n",
              "      <td>21.710711</td>\n",
              "      <td>13.069458</td>\n",
              "      <td>0.912304</td>\n",
              "      <td>-0.068713</td>\n",
              "      <td>259.875793</td>\n",
              "      <td>23.424248</td>\n",
              "      <td>15.889234</td>\n",
              "      <td>4.699224</td>\n",
              "      <td>4.117328</td>\n",
              "      <td>5.081973</td>\n",
              "      <td>4.143761</td>\n",
              "      <td>5.109760</td>\n",
              "      <td>1.657380</td>\n",
              "      <td>7.236874</td>\n",
              "      <td>12.314099</td>\n",
              "      <td>13.740817</td>\n",
              "      <td>5.499841</td>\n",
              "      <td>1.401149</td>\n",
              "      <td>4.567650</td>\n",
              "      <td>42.877837</td>\n",
              "      <td>5.594593</td>\n",
              "      <td>0.371878</td>\n",
              "      <td>0.112042</td>\n",
              "      <td>0.225345</td>\n",
              "      <td>1.803224</td>\n",
              "      <td>0.347618</td>\n",
              "    </tr>\n",
              "    <tr>\n",
              "      <th>std</th>\n",
              "      <td>1.414225</td>\n",
              "      <td>1.118036</td>\n",
              "      <td>15122.689325</td>\n",
              "      <td>1.138752</td>\n",
              "      <td>0.795370</td>\n",
              "      <td>13499.325639</td>\n",
              "      <td>6245.052428</td>\n",
              "      <td>9.104896</td>\n",
              "      <td>6.248520</td>\n",
              "      <td>3.365953</td>\n",
              "      <td>6.053082</td>\n",
              "      <td>15299.468105</td>\n",
              "      <td>4.717956e+04</td>\n",
              "      <td>2.704962</td>\n",
              "      <td>1.816347</td>\n",
              "      <td>0.356161</td>\n",
              "      <td>0.453069</td>\n",
              "      <td>0.374039</td>\n",
              "      <td>0.468576</td>\n",
              "      <td>2.653430</td>\n",
              "      <td>3.515534</td>\n",
              "      <td>7.026248</td>\n",
              "      <td>6.499362</td>\n",
              "      <td>9.748714</td>\n",
              "      <td>4.581544</td>\n",
              "      <td>7.488828</td>\n",
              "      <td>6.475147</td>\n",
              "      <td>1726.633879</td>\n",
              "      <td>3.315113</td>\n",
              "      <td>4.176274</td>\n",
              "      <td>5.700756</td>\n",
              "      <td>1.453532</td>\n",
              "      <td>2.008620</td>\n",
              "      <td>11.297478</td>\n",
              "      <td>6.355135</td>\n",
              "      <td>3.543960</td>\n",
              "      <td>2.313199</td>\n",
              "      <td>7.191012</td>\n",
              "      <td>2.678393</td>\n",
              "      <td>2.042336</td>\n",
              "      <td>0.844417</td>\n",
              "      <td>1.881224</td>\n",
              "      <td>6.959250</td>\n",
              "      <td>3.175156</td>\n",
              "      <td>0.483310</td>\n",
              "      <td>0.315421</td>\n",
              "      <td>0.417813</td>\n",
              "      <td>1.816347</td>\n",
              "      <td>0.476218</td>\n",
              "    </tr>\n",
              "    <tr>\n",
              "      <th>min</th>\n",
              "      <td>2013.000000</td>\n",
              "      <td>1.000000</td>\n",
              "      <td>1001.000000</td>\n",
              "      <td>0.000000</td>\n",
              "      <td>0.780000</td>\n",
              "      <td>22679.000000</td>\n",
              "      <td>10960.000000</td>\n",
              "      <td>2.700000</td>\n",
              "      <td>3.000000</td>\n",
              "      <td>0.000000</td>\n",
              "      <td>0.000000</td>\n",
              "      <td>11.000000</td>\n",
              "      <td>1.300000e+01</td>\n",
              "      <td>1.000000</td>\n",
              "      <td>0.000000</td>\n",
              "      <td>0.000000</td>\n",
              "      <td>0.000000</td>\n",
              "      <td>0.000000</td>\n",
              "      <td>0.000000</td>\n",
              "      <td>0.000000</td>\n",
              "      <td>71.826625</td>\n",
              "      <td>0.000000</td>\n",
              "      <td>0.000000</td>\n",
              "      <td>0.000000</td>\n",
              "      <td>0.967742</td>\n",
              "      <td>-26.150000</td>\n",
              "      <td>-25.880000</td>\n",
              "      <td>0.040000</td>\n",
              "      <td>9.110000</td>\n",
              "      <td>3.470000</td>\n",
              "      <td>0.000000</td>\n",
              "      <td>1.300000</td>\n",
              "      <td>1.000000</td>\n",
              "      <td>-32.680000</td>\n",
              "      <td>0.000000</td>\n",
              "      <td>0.000000</td>\n",
              "      <td>0.000000</td>\n",
              "      <td>0.000000</td>\n",
              "      <td>1.156069</td>\n",
              "      <td>0.000000</td>\n",
              "      <td>0.000000</td>\n",
              "      <td>0.000000</td>\n",
              "      <td>5.128205</td>\n",
              "      <td>0.000000</td>\n",
              "      <td>0.000000</td>\n",
              "      <td>0.000000</td>\n",
              "      <td>0.000000</td>\n",
              "      <td>0.000000</td>\n",
              "      <td>0.000000</td>\n",
              "    </tr>\n",
              "    <tr>\n",
              "      <th>25%</th>\n",
              "      <td>2014.000000</td>\n",
              "      <td>1.000000</td>\n",
              "      <td>19003.000000</td>\n",
              "      <td>1.000000</td>\n",
              "      <td>1.190000</td>\n",
              "      <td>42275.000000</td>\n",
              "      <td>21805.000000</td>\n",
              "      <td>14.800000</td>\n",
              "      <td>10.900000</td>\n",
              "      <td>4.552548</td>\n",
              "      <td>5.684925</td>\n",
              "      <td>509.000000</td>\n",
              "      <td>1.636000e+03</td>\n",
              "      <td>2.000000</td>\n",
              "      <td>0.000000</td>\n",
              "      <td>0.000000</td>\n",
              "      <td>0.000000</td>\n",
              "      <td>0.000000</td>\n",
              "      <td>0.000000</td>\n",
              "      <td>7.550806</td>\n",
              "      <td>91.666667</td>\n",
              "      <td>5.933251</td>\n",
              "      <td>11.007071</td>\n",
              "      <td>15.504587</td>\n",
              "      <td>9.812482</td>\n",
              "      <td>-3.730000</td>\n",
              "      <td>-3.710000</td>\n",
              "      <td>17.050000</td>\n",
              "      <td>21.430000</td>\n",
              "      <td>13.130000</td>\n",
              "      <td>1.354839</td>\n",
              "      <td>3.100000</td>\n",
              "      <td>4.000000</td>\n",
              "      <td>-2.690000</td>\n",
              "      <td>1.136425</td>\n",
              "      <td>0.080877</td>\n",
              "      <td>5.659038</td>\n",
              "      <td>6.718598</td>\n",
              "      <td>12.319050</td>\n",
              "      <td>4.172427</td>\n",
              "      <td>0.880626</td>\n",
              "      <td>3.393541</td>\n",
              "      <td>38.254865</td>\n",
              "      <td>3.570954</td>\n",
              "      <td>0.000000</td>\n",
              "      <td>0.000000</td>\n",
              "      <td>0.000000</td>\n",
              "      <td>0.000000</td>\n",
              "      <td>0.000000</td>\n",
              "    </tr>\n",
              "    <tr>\n",
              "      <th>50%</th>\n",
              "      <td>2015.000000</td>\n",
              "      <td>2.000000</td>\n",
              "      <td>29181.000000</td>\n",
              "      <td>2.000000</td>\n",
              "      <td>1.580000</td>\n",
              "      <td>48851.000000</td>\n",
              "      <td>25267.000000</td>\n",
              "      <td>20.500000</td>\n",
              "      <td>14.400000</td>\n",
              "      <td>6.293835</td>\n",
              "      <td>8.848700</td>\n",
              "      <td>1210.000000</td>\n",
              "      <td>3.893000e+03</td>\n",
              "      <td>6.000000</td>\n",
              "      <td>1.000000</td>\n",
              "      <td>0.000000</td>\n",
              "      <td>0.000000</td>\n",
              "      <td>0.000000</td>\n",
              "      <td>0.000000</td>\n",
              "      <td>8.898224</td>\n",
              "      <td>93.523833</td>\n",
              "      <td>9.268293</td>\n",
              "      <td>15.003651</td>\n",
              "      <td>20.443430</td>\n",
              "      <td>12.526395</td>\n",
              "      <td>-0.400000</td>\n",
              "      <td>-1.050000</td>\n",
              "      <td>45.300000</td>\n",
              "      <td>23.330000</td>\n",
              "      <td>15.570000</td>\n",
              "      <td>2.691027</td>\n",
              "      <td>3.900000</td>\n",
              "      <td>5.000000</td>\n",
              "      <td>3.460000</td>\n",
              "      <td>2.863436</td>\n",
              "      <td>0.311268</td>\n",
              "      <td>6.964006</td>\n",
              "      <td>11.441608</td>\n",
              "      <td>13.921248</td>\n",
              "      <td>5.156076</td>\n",
              "      <td>1.318681</td>\n",
              "      <td>4.275394</td>\n",
              "      <td>42.666369</td>\n",
              "      <td>4.731340</td>\n",
              "      <td>0.000000</td>\n",
              "      <td>0.000000</td>\n",
              "      <td>0.000000</td>\n",
              "      <td>1.000000</td>\n",
              "      <td>0.000000</td>\n",
              "    </tr>\n",
              "    <tr>\n",
              "      <th>75%</th>\n",
              "      <td>2016.000000</td>\n",
              "      <td>3.000000</td>\n",
              "      <td>45081.000000</td>\n",
              "      <td>3.000000</td>\n",
              "      <td>2.160000</td>\n",
              "      <td>56678.000000</td>\n",
              "      <td>29096.000000</td>\n",
              "      <td>26.700000</td>\n",
              "      <td>18.400000</td>\n",
              "      <td>8.303840</td>\n",
              "      <td>12.633262</td>\n",
              "      <td>2850.000000</td>\n",
              "      <td>9.474000e+03</td>\n",
              "      <td>7.000000</td>\n",
              "      <td>3.000000</td>\n",
              "      <td>0.000000</td>\n",
              "      <td>1.000000</td>\n",
              "      <td>0.000000</td>\n",
              "      <td>1.000000</td>\n",
              "      <td>10.386361</td>\n",
              "      <td>95.405532</td>\n",
              "      <td>13.159251</td>\n",
              "      <td>19.245367</td>\n",
              "      <td>26.470588</td>\n",
              "      <td>15.752461</td>\n",
              "      <td>4.170000</td>\n",
              "      <td>2.670000</td>\n",
              "      <td>114.200000</td>\n",
              "      <td>25.100000</td>\n",
              "      <td>18.210000</td>\n",
              "      <td>5.703265</td>\n",
              "      <td>4.800000</td>\n",
              "      <td>6.000000</td>\n",
              "      <td>9.610000</td>\n",
              "      <td>6.333122</td>\n",
              "      <td>1.372549</td>\n",
              "      <td>8.429036</td>\n",
              "      <td>16.897875</td>\n",
              "      <td>15.290231</td>\n",
              "      <td>6.445287</td>\n",
              "      <td>1.769841</td>\n",
              "      <td>5.475331</td>\n",
              "      <td>47.365535</td>\n",
              "      <td>6.674054</td>\n",
              "      <td>1.000000</td>\n",
              "      <td>0.000000</td>\n",
              "      <td>0.000000</td>\n",
              "      <td>3.000000</td>\n",
              "      <td>1.000000</td>\n",
              "    </tr>\n",
              "    <tr>\n",
              "      <th>max</th>\n",
              "      <td>2017.000000</td>\n",
              "      <td>4.000000</td>\n",
              "      <td>56045.000000</td>\n",
              "      <td>4.000000</td>\n",
              "      <td>3.460000</td>\n",
              "      <td>136191.000000</td>\n",
              "      <td>69529.000000</td>\n",
              "      <td>74.700000</td>\n",
              "      <td>56.700000</td>\n",
              "      <td>28.892751</td>\n",
              "      <td>51.381215</td>\n",
              "      <td>457665.000000</td>\n",
              "      <td>1.490853e+06</td>\n",
              "      <td>9.000000</td>\n",
              "      <td>5.000000</td>\n",
              "      <td>1.000000</td>\n",
              "      <td>1.000000</td>\n",
              "      <td>1.000000</td>\n",
              "      <td>1.000000</td>\n",
              "      <td>25.436423</td>\n",
              "      <td>100.000000</td>\n",
              "      <td>75.000000</td>\n",
              "      <td>49.458128</td>\n",
              "      <td>80.000000</td>\n",
              "      <td>36.018609</td>\n",
              "      <td>112.630000</td>\n",
              "      <td>96.860000</td>\n",
              "      <td>69468.420000</td>\n",
              "      <td>40.130000</td>\n",
              "      <td>43.380000</td>\n",
              "      <td>52.944533</td>\n",
              "      <td>18.100000</td>\n",
              "      <td>24.000000</td>\n",
              "      <td>151.200000</td>\n",
              "      <td>60.227273</td>\n",
              "      <td>42.394558</td>\n",
              "      <td>22.834844</td>\n",
              "      <td>55.093555</td>\n",
              "      <td>35.851083</td>\n",
              "      <td>24.591236</td>\n",
              "      <td>17.297297</td>\n",
              "      <td>21.069729</td>\n",
              "      <td>82.229774</td>\n",
              "      <td>32.909854</td>\n",
              "      <td>1.000000</td>\n",
              "      <td>1.000000</td>\n",
              "      <td>1.000000</td>\n",
              "      <td>5.000000</td>\n",
              "      <td>1.000000</td>\n",
              "    </tr>\n",
              "  </tbody>\n",
              "</table>\n",
              "</div>"
            ],
            "text/plain": [
              "               year  ...       metro03\n",
              "count  62655.000000  ...  62655.000000\n",
              "mean    2014.999904  ...      0.347618\n",
              "std        1.414225  ...      0.476218\n",
              "min     2013.000000  ...      0.000000\n",
              "25%     2014.000000  ...      0.000000\n",
              "50%     2015.000000  ...      0.000000\n",
              "75%     2016.000000  ...      1.000000\n",
              "max     2017.000000  ...      1.000000\n",
              "\n",
              "[8 rows x 49 columns]"
            ]
          },
          "metadata": {
            "tags": []
          },
          "execution_count": 8
        }
      ]
    },
    {
      "cell_type": "code",
      "metadata": {
        "id": "V3_G447Jxi73",
        "colab_type": "code",
        "outputId": "6724281d-c980-4d74-aabb-2062531769e0",
        "colab": {
          "base_uri": "https://localhost:8080/",
          "height": 51
        }
      },
      "source": [
        "#holdout test set\n",
        "test = dfv.query('year == 2017') \n",
        "\n",
        "# Split train into train & val\n",
        "#dfv['averageDebtRate'] = (dfv['low'] + dfv['high'])\n",
        "\n",
        "#split on time-series\n",
        "re_train = dfv.query('year < 2016')\n",
        "re_val = dfv.query('year == 2016') #val set approx. 25% of (post- test-split) dataset \n",
        "print(re_train.shape,re_val.shape)\n",
        "\n",
        "#split by random\n",
        "train, val = train_test_split(test, train_size=0.80, stratify=test['low'], random_state=12)\n",
        "train.shape, val.shape"
      ],
      "execution_count": 48,
      "outputs": [
        {
          "output_type": "stream",
          "text": [
            "(37595, 56) (12530, 56)\n"
          ],
          "name": "stdout"
        },
        {
          "output_type": "execute_result",
          "data": {
            "text/plain": [
              "((10024, 56), (2506, 56))"
            ]
          },
          "metadata": {
            "tags": []
          },
          "execution_count": 48
        }
      ]
    },
    {
      "cell_type": "code",
      "metadata": {
        "id": "ErvoUn0F3VcN",
        "colab_type": "code",
        "colab": {}
      },
      "source": [
        "# import pandas_profiling as pp\n",
        "# pp.ProfileReport(train)"
      ],
      "execution_count": 0,
      "outputs": []
    },
    {
      "cell_type": "code",
      "metadata": {
        "id": "Y8cmn_Gdyy3o",
        "colab_type": "code",
        "colab": {}
      },
      "source": [
        "def wrangle(X):    \n",
        "    X = X.copy()\n",
        "    target = X.low\n",
        "    \n",
        "    #managing outliers\n",
        "    X['MedHHInc'] = X.query('MedHHInc < 70000')\n",
        "    X['PerCapitaInc'] = X.query('PerCapitaInc < 45000')\n",
        "    X['PovertyUnder18Pct'] = X.query('PovertyUnder18Pct < 40')\n",
        "    X['PovertyAllAgesPct'] = X.query('PovertyAllAgesPct < 35')\n",
        "    X['Deep_Pov_All'] = X.query('Deep_Pov_All < 18')\n",
        "    \n",
        "    \n",
        "    #feat/engineering\n",
        "    X = X.drop(columns=['high']) #column of (many) nan\n",
        "    X = X.query('qtr == 4')\n",
        "    \n",
        "    # Drop duplicate columns --> none yet\n",
        "    duplicates = []\n",
        "    X = X.drop(columns=duplicates)\n",
        "    \n",
        "    # Drop unusable variances\n",
        "    unusable_variance = ['FIPS','year','qtr']\n",
        "    X = X.drop(columns=unusable_variance)\n",
        "    \n",
        "    #bin the y-continuous feat\n",
        "    X['low'] = pd.cut(X['low'],2,labels = False) #labels = False -> bins are indicated by integer values\n",
        "    \n",
        "    # return the wrangled dataframe\n",
        "    return X\n",
        "  \n",
        "def wrangle2(X):\n",
        "    least_feats = list_feats[35:]\n",
        "    X = X.copy()\n",
        "    X = X.query('qtr == 4')\n",
        "    X['MedHHInc'] = X.query('MedHHInc < 70000')\n",
        "    X['PerCapitaInc'] = X.query('PerCapitaInc < 45000')\n",
        "    X['PovertyUnder18Pct'] = X.query('PovertyUnder18Pct < 40')\n",
        "    X['PovertyAllAgesPct'] = X.query('PovertyAllAgesPct < 35')\n",
        "    X['Deep_Pov_All'] = X.query('Deep_Pov_All < 18')\n",
        "    X = X.drop(columns = least_feats)\n",
        "    X = X.drop(columns = ['FIPS','high','year','qtr'])\n",
        " \n",
        "    return X\n",
        "  \n",
        "train = wrangle(train)\n",
        "val = wrangle(val)\n",
        "re_train = wrangle(re_train)\n",
        "re_val = wrangle(re_val)\n",
        "test = wrangle(test)"
      ],
      "execution_count": 0,
      "outputs": []
    },
    {
      "cell_type": "code",
      "metadata": {
        "id": "3qjnojjdzh1a",
        "colab_type": "code",
        "colab": {}
      },
      "source": [
        "# The status_group column is the target\n",
        "target = 'low'\n",
        "\n",
        "train_features = train.drop(columns=[target])\n",
        "re_train_features = re_train.drop(columns = [target])\n",
        "\n",
        "# list of numeric features\n",
        "numeric_features = train_features.select_dtypes(include='number').columns.tolist()\n",
        "re_numeric_features = re_train_features.select_dtypes(include='number').columns.tolist()\n",
        "\n",
        "# # series with cardinality of the nonnumeric features\n",
        "cardinality = train_features.select_dtypes(exclude='number').nunique()\n",
        "re_cardinality = re_train_features.select_dtypes(exclude='number').nunique()\n",
        "\n",
        "# list of categorical features w/cardinality <= 25Pct\n",
        "categorical_features = cardinality[cardinality <= 50].index.tolist() #none w/wrangle2 function; all w/cards in 1000s\n",
        "re_categorical_features = re_cardinality[re_cardinality <= 10].index.tolist()\n",
        "\n",
        "# combine lists \n",
        "features = numeric_features + categorical_features\n",
        "re_features = re_numeric_features + categorical_features"
      ],
      "execution_count": 0,
      "outputs": []
    },
    {
      "cell_type": "code",
      "metadata": {
        "id": "wRjqjuvRzk9Q",
        "colab_type": "code",
        "colab": {}
      },
      "source": [
        "X_train = train[features]\n",
        "y_train = train[target]\n",
        "X_val = val[features]\n",
        "y_val = val[target]\n",
        "\n",
        "re_X_train = re_train[re_features]\n",
        "re_y_train = re_train[target]\n",
        "re_X_val = re_val[re_features]\n",
        "re_y_val = re_val[target]"
      ],
      "execution_count": 0,
      "outputs": []
    },
    {
      "cell_type": "markdown",
      "metadata": {
        "id": "dKogSDTwizPV",
        "colab_type": "text"
      },
      "source": [
        "### Baseline + Confusion Matrix"
      ]
    },
    {
      "cell_type": "code",
      "metadata": {
        "id": "hDh6mWdbZELS",
        "colab_type": "code",
        "colab": {
          "base_uri": "https://localhost:8080/",
          "height": 68
        },
        "outputId": "0cb7b83c-7d3c-4dd1-a091-60ebe3c7485c"
      },
      "source": [
        "#baseline\n",
        "import numpy as np\n",
        "from sklearn.metrics import accuracy_score\n",
        "\n",
        "y_train.value_counts(normalize=True)  #baseline = .415 (for class 1 of 5)"
      ],
      "execution_count": 52,
      "outputs": [
        {
          "output_type": "execute_result",
          "data": {
            "text/plain": [
              "0    0.738236\n",
              "1    0.261764\n",
              "Name: low, dtype: float64"
            ]
          },
          "metadata": {
            "tags": []
          },
          "execution_count": 52
        }
      ]
    },
    {
      "cell_type": "code",
      "metadata": {
        "id": "S468Emb1ZX5V",
        "colab_type": "code",
        "colab": {
          "base_uri": "https://localhost:8080/",
          "height": 34
        },
        "outputId": "1099a72a-0156-4bcb-9c73-ed84c60db11a"
      },
      "source": [
        "#Accuracy score for baseline\n",
        "majority_class = y_train.mode()[0]\n",
        "y_pred = np.full_like(y_val, fill_value=majority_class)\n",
        "accuracy_score(y_val, y_pred) "
      ],
      "execution_count": 61,
      "outputs": [
        {
          "output_type": "execute_result",
          "data": {
            "text/plain": [
              "0.7201986754966887"
            ]
          },
          "metadata": {
            "tags": []
          },
          "execution_count": 61
        }
      ]
    },
    {
      "cell_type": "code",
      "metadata": {
        "id": "oaChXDY6awZW",
        "colab_type": "code",
        "colab": {
          "base_uri": "https://localhost:8080/",
          "height": 102
        },
        "outputId": "8cec851d-e2ab-4d6f-c193-c1ecb9d26327"
      },
      "source": [
        "#confusion matrix for majority class baseline\n",
        "#from sklearn.metrics import confusion_matrix\n",
        "y_pred = pipeline.predict(X_val)\n",
        "confusion_matrix(y_val, y_pred)"
      ],
      "execution_count": 60,
      "outputs": [
        {
          "output_type": "execute_result",
          "data": {
            "text/plain": [
              "array([[ 70, 261,  86,  17,   1],\n",
              "       [  0,   1,  24,  82,  62],\n",
              "       [  0,   0,   0,   0,   0],\n",
              "       [  0,   0,   0,   0,   0],\n",
              "       [  0,   0,   0,   0,   0]])"
            ]
          },
          "metadata": {
            "tags": []
          },
          "execution_count": 60
        }
      ]
    },
    {
      "cell_type": "code",
      "metadata": {
        "id": "uUDKD5pyZ9sC",
        "colab_type": "code",
        "colab": {
          "base_uri": "https://localhost:8080/",
          "height": 285
        },
        "outputId": "ce016078-a959-45d0-baac-913e76ff504f"
      },
      "source": [
        "#precision and recall for model/majority class baseline\n",
        "from sklearn.metrics import classification_report #confusion matrix used for multi-class. types\n",
        "print(classification_report(y_val, y_pred)) "
      ],
      "execution_count": 55,
      "outputs": [
        {
          "output_type": "stream",
          "text": [
            "              precision    recall  f1-score   support\n",
            "\n",
            "           0       1.00      0.16      0.28       435\n",
            "           1       0.00      0.01      0.00       169\n",
            "           2       0.00      0.00      0.00         0\n",
            "           3       0.00      0.00      0.00         0\n",
            "           4       0.00      0.00      0.00         0\n",
            "\n",
            "    accuracy                           0.12       604\n",
            "   macro avg       0.20      0.03      0.06       604\n",
            "weighted avg       0.72      0.12      0.20       604\n",
            "\n"
          ],
          "name": "stdout"
        },
        {
          "output_type": "stream",
          "text": [
            "/usr/local/lib/python3.6/dist-packages/sklearn/metrics/classification.py:1439: UndefinedMetricWarning: Recall and F-score are ill-defined and being set to 0.0 in labels with no true samples.\n",
            "  'recall', 'true', average, warn_for)\n"
          ],
          "name": "stderr"
        }
      ]
    },
    {
      "cell_type": "markdown",
      "metadata": {
        "id": "AF3qnlNDitaG",
        "colab_type": "text"
      },
      "source": [
        "### ROC-AUC\n",
        "Alter wrangling fxn for binary class."
      ]
    },
    {
      "cell_type": "code",
      "metadata": {
        "id": "buVfdpNjaoBx",
        "colab_type": "code",
        "colab": {
          "base_uri": "https://localhost:8080/",
          "height": 34
        },
        "outputId": "d69effba-6a75-41af-9ead-c0d67f18ed6d"
      },
      "source": [
        "#roc & auc for majority class baseline\n",
        "from sklearn.metrics import roc_auc_score  #works with binary class. types\n",
        "\n",
        "y_pred_proba = np.full_like(y_val, fill_value=1.00)\n",
        "roc_auc_score(y_val, y_pred_proba)"
      ],
      "execution_count": 56,
      "outputs": [
        {
          "output_type": "execute_result",
          "data": {
            "text/plain": [
              "0.5"
            ]
          },
          "metadata": {
            "tags": []
          },
          "execution_count": 56
        }
      ]
    },
    {
      "cell_type": "code",
      "metadata": {
        "id": "doZpk0qIfqAz",
        "colab_type": "code",
        "colab": {
          "base_uri": "https://localhost:8080/",
          "height": 34
        },
        "outputId": "d9efd0bb-a974-4c0c-9a68-32fbc5484d8a"
      },
      "source": [
        "#roc/auc for model\n",
        "y_pred_proba = pipeline.predict_proba(X_val)[:, 1]\n",
        "roc_auc_score(y_val, y_pred_proba) #very poor score (0.115)"
      ],
      "execution_count": 58,
      "outputs": [
        {
          "output_type": "execute_result",
          "data": {
            "text/plain": [
              "0.11493572740257091"
            ]
          },
          "metadata": {
            "tags": []
          },
          "execution_count": 58
        }
      ]
    },
    {
      "cell_type": "code",
      "metadata": {
        "id": "L9ZIu5UVhYdh",
        "colab_type": "code",
        "colab": {}
      },
      "source": [
        "from ipywidgets import interact, fixed\n",
        "from sklearn.metrics import roc_auc_score, roc_curve\n",
        "from sklearn.utils.multiclass import unique_labels\n",
        "\n",
        "def set_threshold(y_true, y_pred_proba, threshold=0.5):\n",
        "    \"\"\"\n",
        "    For binary classification problems. \n",
        "    y_pred_proba : predicted probability of class 1\n",
        "    \"\"\"\n",
        "    \n",
        "    # Apply threshold to predicted probabilities\n",
        "    # to get discrete predictions\n",
        "    class_0, class_1 = unique_labels(y_true)\n",
        "    y_pred = np.full_like(y_true, fill_value=class_0)\n",
        "    y_pred[y_pred_proba > threshold] = class_1\n",
        "    \n",
        "    # Plot distribution of predicted probabilities\n",
        "    ax = sns.distplot(y_pred_proba)\n",
        "    ax.axvline(threshold, color='red')\n",
        "    plt.title('Distribution of predicted probabilities')\n",
        "    plt.show()\n",
        "\n",
        "    # Calculate true positive rate and false positive rate\n",
        "    true_positives = (y_pred==y_true) & (y_pred==class_1)\n",
        "    false_positives = (y_pred!=y_true) & (y_pred==class_1)\n",
        "    actual_positives = (y_true==class_1)\n",
        "    actual_negatives = (y_true==class_0)\n",
        "    true_positive_rate = true_positives.sum() / actual_positives.sum()\n",
        "    false_positive_rate = false_positives.sum() / actual_negatives.sum()\n",
        "    print('False Positive Rate', false_positive_rate)\n",
        "    print('True Positive Rate', true_positive_rate)\n",
        "    \n",
        "    # Plot ROC curve\n",
        "    fpr, tpr, thresholds = roc_curve(y_true==class_1, y_pred_proba)\n",
        "    plt.plot(fpr, tpr)\n",
        "    plt.title('ROC curve')\n",
        "    plt.xlabel('False Positive Rate')\n",
        "    plt.ylabel('True Positive Rate')\n",
        "    \n",
        "    # Plot point on ROC curve for the current threshold\n",
        "    plt.scatter(false_positive_rate, true_positive_rate)\n",
        "    plt.show()\n",
        "    \n",
        "    # Show ROC AUC score\n",
        "    print('Area under the Receiver Operating Characteristic curve:', \n",
        "          roc_auc_score(y_true, y_pred_proba))"
      ],
      "execution_count": 0,
      "outputs": []
    },
    {
      "cell_type": "code",
      "metadata": {
        "id": "hhbgbatdhvv_",
        "colab_type": "code",
        "colab": {
          "base_uri": "https://localhost:8080/",
          "height": 610
        },
        "outputId": "df373432-6f84-4a84-9d52-e0835ec5b55f"
      },
      "source": [
        "set_threshold((y_val), (y_pred_proba))"
      ],
      "execution_count": 76,
      "outputs": [
        {
          "output_type": "display_data",
          "data": {
            "image/png": "[encoded data removed]",
            "text/plain": [
              "<Figure size 432x288 with 1 Axes>"
            ]
          },
          "metadata": {
            "tags": []
          }
        },
        {
          "output_type": "stream",
          "text": [
            "False Positive Rate 0.5908045977011495\n",
            "True Positive Rate 0.005917159763313609\n"
          ],
          "name": "stdout"
        },
        {
          "output_type": "display_data",
          "data": {
            "image/png": "[encoded data removed]",
            "text/plain": [
              "<Figure size 432x288 with 1 Axes>"
            ]
          },
          "metadata": {
            "tags": []
          }
        },
        {
          "output_type": "stream",
          "text": [
            "Area under the Receiver Operating Characteristic curve: 0.11493572740257091\n"
          ],
          "name": "stdout"
        }
      ]
    },
    {
      "cell_type": "markdown",
      "metadata": {
        "id": "u_SGNNma_HsF",
        "colab_type": "text"
      },
      "source": [
        "### Pipeline + Model Val. Score"
      ]
    },
    {
      "cell_type": "code",
      "metadata": {
        "id": "gw-4sR5PzoSf",
        "colab_type": "code",
        "outputId": "337146b8-baba-4836-82b0-af974ef5fd04",
        "colab": {
          "base_uri": "https://localhost:8080/",
          "height": 51
        }
      },
      "source": [
        "#pipeline time\n",
        "\n",
        "!pip install category_encoders\n",
        "import category_encoders as ce\n",
        "\n",
        "from sklearn.ensemble import RandomForestClassifier\n",
        "from sklearn.impute import SimpleImputer\n",
        "from sklearn.pipeline import make_pipeline\n",
        "from sklearn.feature_selection import SelectKBest\n",
        "\n",
        "pipeline = make_pipeline(\n",
        "    ce.OrdinalEncoder(),\n",
        "    SimpleImputer(strategy='median'), \n",
        "    RandomForestClassifier(n_estimators=100, n_jobs=-1)\n",
        "    )\n",
        "\n",
        "# Fit on train, score on val\n",
        "\n",
        "pipeline.fit(X_train,y_train)\n",
        "print('Validation Accuracy (random-split, top-35 feats)', pipeline.score(X_val,y_val))\n",
        "\n",
        "pipeline.fit(re_X_train, re_y_train)\n",
        "print('Validation Accuracy (time-split, top-35 feats < Wrangle)', pipeline.score(re_X_val, re_y_val)) \n",
        "\n",
        "# Wrangle 1 Accuracies: r-split(.774), t-split(.829)\n",
        "# Wrangle 2 Accuracies: r-split(.772),t-split(.829) \n",
        "# no meaningful difference b/w cardinality < 11 and that < 51; time-based split consistently more accurate"
      ],
      "execution_count": 21,
      "outputs": [
        {
          "output_type": "stream",
          "text": [
            "Validation Accuracy (random-split, top-35 feats) 0.4755905511811024\n",
            "Validation Accuracy (time-split, top-35 feats < Wrangle) 0.7787356321839081\n"
          ],
          "name": "stdout"
        }
      ]
    },
    {
      "cell_type": "code",
      "metadata": {
        "id": "DUA-Hzd9rvuw",
        "colab_type": "code",
        "colab": {}
      },
      "source": [
        "# cross validation\n",
        "from sklearn.ensemble import RandomForestRegressor\n",
        "from sklearn import metrics\n",
        "from sklearn.model_selection import cross_val_score\n",
        "\n",
        "pipeline = make_pipeline(\n",
        "    ce.OrdinalEncoder(), \n",
        "    SimpleImputer(strategy='median'), \n",
        "    RandomForestClassifier(n_estimators=100, n_jobs=-1, random_state=42)\n",
        "    )\n",
        "\n",
        "k = 5\n",
        "scores = cross_val_score(pipeline, X_train, y_train, cv=k, \n",
        "                         scoring='accuracy') #scoring changes w/type of model applied (cluster, class, regression)\n",
        "print(f'Accuracy Score for {k} folds:', scores)\n",
        "\n",
        "#Accuracy Score for 5 folds: [0.74448456 0.76314733 0.77550201 0.76697469 0.77099237] "
      ],
      "execution_count": 0,
      "outputs": []
    },
    {
      "cell_type": "code",
      "metadata": {
        "id": "IAuWcjY3GZIv",
        "colab_type": "code",
        "colab": {
          "base_uri": "https://localhost:8080/",
          "height": 306
        },
        "outputId": "52fece66-c5f2-4de9-8b83-378441955db4"
      },
      "source": [
        "X_train.index\n",
        "X_train.columns"
      ],
      "execution_count": 19,
      "outputs": [
        {
          "output_type": "execute_result",
          "data": {
            "text/plain": [
              "Index(['Deep_Pov_Children', 'PovertyUnder18Num', 'PovertyAllAgesNum',\n",
              "       'RuralUrbanContinuumCode2013', 'Type_2015_Update',\n",
              "       'Low_Education_2015_update', 'Low_Employment_2015_update',\n",
              "       'Population_loss_2015_update', 'Metro_Adjacent2013', 'Vets18OPct',\n",
              "       'MaleVetsPct', 'PctVetsPoor', 'PctNonVetsPoor', 'PctVetsDisabilty',\n",
              "       'PctNonVetsDisabilty', 'PopChangeRate1018', 'NetMigrationRate1018',\n",
              "       'PopDensity2010', 'Under18Pct2010', 'Age65AndOlderPct2010',\n",
              "       'ForeignBornPct', 'UnempRate2018', 'UnempRate2015', 'PctEmpChange1018',\n",
              "       'PctEmpAgriculture', 'PctEmpMining', 'PctEmpConstruction',\n",
              "       'PctEmpManufacturing', 'PctEmpTrade', 'PctEmpTrans',\n",
              "       'PctEmpInformation', 'PctEmpFIRE', 'PctEmpServices', 'PctEmpGovt',\n",
              "       'Metro-nonmetro status, 2013 0=Nonmetro 1=Metro',\n",
              "       'Persistent_Poverty_2013', 'Persistent_Related_Child_Poverty_2013',\n",
              "       'Economic Types Type_2015_Update non-overlapping', 'metro03',\n",
              "       'MedHHInc', 'PerCapitaInc', 'PovertyUnder18Pct', 'PovertyAllAgesPct',\n",
              "       'Deep_Pov_All', 'Economic_Type_Label'],\n",
              "      dtype='object')"
            ]
          },
          "metadata": {
            "tags": []
          },
          "execution_count": 19
        }
      ]
    },
    {
      "cell_type": "markdown",
      "metadata": {
        "id": "v6nKf7cbc0di",
        "colab_type": "text"
      },
      "source": [
        "### Feat Importances "
      ]
    },
    {
      "cell_type": "code",
      "metadata": {
        "id": "05rBXGB1zyr2",
        "colab_type": "code",
        "outputId": "27b7dddf-fc43-44d1-93ba-46b9744bf375",
        "colab": {
          "base_uri": "https://localhost:8080/",
          "height": 503
        }
      },
      "source": [
        "# feat. importances  #broken after 2nd iteration; doesn't work after passage through Wrangle2\n",
        "%matplotlib inline\n",
        "import matplotlib.pyplot as plt\n",
        "plt.figure(figsize = (10,8))\n",
        "rf = pipeline.named_steps['randomforestclassifier']\n",
        "importances = pd.Series(rf.feature_importances_, X_train.columns)\n",
        "importances.nlargest(n=35).sort_values().plot.barh(color = 'grey')"
      ],
      "execution_count": 22,
      "outputs": [
        {
          "output_type": "execute_result",
          "data": {
            "text/plain": [
              "<matplotlib.axes._subplots.AxesSubplot at 0x7f244a9b8f98>"
            ]
          },
          "metadata": {
            "tags": []
          },
          "execution_count": 22
        },
        {
          "output_type": "display_data",
          "data": {
            "image/png": "[encoded data removed]",
            "text/plain": [
              "<Figure size 720x576 with 1 Axes>"
            ]
          },
          "metadata": {
            "tags": []
          }
        }
      ]
    },
    {
      "cell_type": "code",
      "metadata": {
        "id": "L4VvLLrq7INT",
        "colab_type": "code",
        "colab": {}
      },
      "source": [
        "df_importances = pd.DataFrame(importances)\n",
        "df_importances = df_importances.reset_index()\n",
        "df_importances = df_importances.rename(columns={0: \"value\", \"index\": \"feature\"})\n",
        "df_importances = df_importances.sort_values(by=['value'], ascending = False)\n",
        "#df_importances.head(35) \n",
        "# now fetch a list of the most important feat names\n",
        "list_feats = list(df_importances.feature)"
      ],
      "execution_count": 0,
      "outputs": []
    },
    {
      "cell_type": "markdown",
      "metadata": {
        "id": "cru4s5sbc3h8",
        "colab_type": "text"
      },
      "source": [
        "### ptPlot - PctEmpConstruction vs 'low'"
      ]
    },
    {
      "cell_type": "code",
      "metadata": {
        "id": "V6fgh0vLcy00",
        "colab_type": "code",
        "outputId": "d481b17f-a725-4c23-a009-2a6f42e22eb8",
        "colab": {
          "base_uri": "https://localhost:8080/",
          "height": 428
        }
      },
      "source": [
        "plt.figure(figsize = (10,5))\n",
        "import seaborn as sns\n",
        "sns.pointplot(x = pd.cut(train['PctEmpConstruction'],bins = 10), y = train['low'])\n",
        "plt.xticks(rotation = 90) "
      ],
      "execution_count": 24,
      "outputs": [
        {
          "output_type": "execute_result",
          "data": {
            "text/plain": [
              "(array([0, 1, 2, 3, 4, 5, 6, 7, 8, 9]), <a list of 10 Text xticklabel objects>)"
            ]
          },
          "metadata": {
            "tags": []
          },
          "execution_count": 24
        },
        {
          "output_type": "display_data",
          "data": {
            "image/png": "[encoded data removed]",
            "text/plain": [
              "<Figure size 720x360 with 1 Axes>"
            ]
          },
          "metadata": {
            "tags": []
          }
        }
      ]
    }
  ]
}