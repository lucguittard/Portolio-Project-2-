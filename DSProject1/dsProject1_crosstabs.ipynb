{
  "nbformat": 4,
  "nbformat_minor": 0,
  "metadata": {
    "colab": {
      "name": "dsProject1 - crosstabs ",
      "version": "0.3.2",
      "provenance": [],
      "collapsed_sections": [
        "5z8rqLwUPSCO",
        "pZOtD3k4J3OA",
        "voTON9MyMRum",
        "UAdPRnybMdXx",
        "hiJuNkZBE9Xd",
        "myUgzV1LIwxX",
        "CJ_7JQ-6I7zN",
        "WsdZLNnbK62X",
        "gD_OV0mDKWBV",
        "jOqGjnxLLqJK",
        "neRe-DgahHnN",
        "4fOqB0hFiSeZ",
        "5GBbr932iqws",
        "lufz47A-gw8V"
      ]
    },
    "kernelspec": {
      "name": "python3",
      "display_name": "Python 3"
    }
  },
  "cells": [
    {
      "cell_type": "markdown",
      "metadata": {
        "id": "5z8rqLwUPSCO",
        "colab_type": "text"
      },
      "source": [
        "## Startup"
      ]
    },
    {
      "cell_type": "code",
      "metadata": {
        "id": "vyomXviDITuq",
        "colab_type": "code",
        "colab": {}
      },
      "source": [
        "#!pip install pandas==0.25.0 "
      ],
      "execution_count": 0,
      "outputs": []
    },
    {
      "cell_type": "code",
      "metadata": {
        "id": "clw2sK42DOrh",
        "colab_type": "code",
        "outputId": "43e64ca6-7329-4420-f664-75630a3dd895",
        "colab": {
          "resources": {
            "http://localhost:8080/nbextensions/google.colab/files.js": {
              "data": "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",
              "ok": true,
              "headers": [
                [
                  "content-type",
                  "application/javascript"
                ]
              ],
              "status": 200,
              "status_text": ""
            }
          },
          "base_uri": "https://localhost:8080/",
          "height": 112
        }
      },
      "source": [
        "from google.colab import files\n",
        "files.upload() "
      ],
      "execution_count": 0,
      "outputs": [
        {
          "output_type": "display_data",
          "data": {
            "text/html": [
              "\n",
              "     <input type=\"file\" id=\"files-24360d24-6ec9-49c3-af91-1d3b7e60c103\" name=\"files[]\" multiple disabled />\n",
              "     <output id=\"result-24360d24-6ec9-49c3-af91-1d3b7e60c103\">\n",
              "      Upload widget is only available when the cell has been executed in the\n",
              "      current browser session. Please rerun this cell to enable.\n",
              "      </output>\n",
              "      <script src=\"/nbextensions/google.colab/files.js\"></script> "
            ],
            "text/plain": [
              "<IPython.core.display.HTML object>"
            ]
          },
          "metadata": {
            "tags": []
          }
        },
        {
          "output_type": "stream",
          "text": [
            "Saving LobbyingData4 - y.csv to LobbyingData4 - y.csv\n"
          ],
          "name": "stdout"
        },
        {
          "output_type": "execute_result",
          "data": {
            "text/plain": [
              "{'LobbyingData4 - y.csv': b'Year,ya,yb,yc,yd\\r\\n2018,76.53846154,48,,\\r\\n2017,75.16666667,47,,\\r\\n2016,79.16666667,55,,\\r\\n2015,79.58333333,53,69,52\\r\\n2014,81,57,69,54\\r\\n2013,81,52,,\\r\\n2012,79.16666667,52,,\\r\\n2011,77.75,48,,\\r\\n2010,75.30769231,50,,\\r\\n2009,62.66666667,38,,\\r\\n2008,73.58333333,41,,\\r\\n2007,65.92307692,39,,\\r\\n2006,66.66666667,35,59.5,42.5\\r\\n2005,57,26,,\\r\\n2004,51,21,,\\r\\n2003,44.75,20,,\\r\\n2002,35.69230769,17,,\\r\\n2001,31.38461538,22,,\\r\\n2000,42.4,27,,\\r\\n1999,51.16666667,22,,\\r\\n1998,44.18181818,22,,\\r\\n1997,52.77777778,27,,\\r\\n1996,55.5,28,,\\r\\n1995,56.5,30,,\\r\\n1994,67.16666667,29,58,50\\r\\n1993,64.25,39,,\\r\\n1992,78,0,,\\r\\n1991,53.5,29.5,,\\r\\n1990,65,30,,\\r\\n1989,,24,,\\r\\n1988,42,18,,\\r\\n1987,49,0,,\\r\\n1986,37,13,,\\r\\n1985,,17,,\\r\\n1984,,28,,\\r\\n1983,43,25,,\\r\\n1982,54,0,,\\r\\n1981,40,28,,\\r\\n1980,56,0,,\\r\\n1979,61,24,,\\r\\n1978,49,0,,\\r\\n1977,42.4,18,,\\r\\n1976,58,0,,\\r\\n1975,51.5,19,,\\r\\n1974,41.33333333,0,,'}"
            ]
          },
          "metadata": {
            "tags": []
          },
          "execution_count": 2
        }
      ]
    },
    {
      "cell_type": "code",
      "metadata": {
        "id": "vOfLWFLooSEu",
        "colab_type": "code",
        "outputId": "6ade31b0-a4b4-42b3-b4f4-54565915a790",
        "colab": {
          "resources": {
            "http://localhost:8080/nbextensions/google.colab/files.js": {
              "data": "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",
              "ok": true,
              "headers": [
                [
                  "content-type",
                  "application/javascript"
                ]
              ],
              "status": 200,
              "status_text": ""
            }
          },
          "base_uri": "https://localhost:8080/",
          "height": 112
        }
      },
      "source": [
        "from google.colab import files\n",
        "files.upload() "
      ],
      "execution_count": 0,
      "outputs": [
        {
          "output_type": "display_data",
          "data": {
            "text/html": [
              "\n",
              "     <input type=\"file\" id=\"files-801513f6-3f84-48e9-8926-b5f9d2b4bdcb\" name=\"files[]\" multiple disabled />\n",
              "     <output id=\"result-801513f6-3f84-48e9-8926-b5f9d2b4bdcb\">\n",
              "      Upload widget is only available when the cell has been executed in the\n",
              "      current browser session. Please rerun this cell to enable.\n",
              "      </output>\n",
              "      <script src=\"/nbextensions/google.colab/files.js\"></script> "
            ],
            "text/plain": [
              "<IPython.core.display.HTML object>"
            ]
          },
          "metadata": {
            "tags": []
          }
        },
        {
          "output_type": "stream",
          "text": [
            "Saving LobbyingData4 - z.csv to LobbyingData4 - z.csv\n"
          ],
          "name": "stdout"
        },
        {
          "output_type": "execute_result",
          "data": {
            "text/plain": [
              "{'LobbyingData4 - z.csv': b'Year,tS,tH,tT,bH,bS,bT,mH,mS,mT,miH,miS,miT,pmH,pmS,pmT\\r\\n2018,1015,658,1673,73,165,238,641,816,1457,1967,3259,5226,0.32587697,0.2503835532,0.2787983161\\r\\n2017,1167,859,2026,33,67,100,438,668,1106,2713,5619,8332,0.161444895,0.1188823634,0.1327412386\\r\\n2016,781,633,1414,73,141,214,485,659,1144,1466,2714,4180,0.3308321965,0.2428150332,0.2736842105\\r\\n2015,1074,805,1879,37,78,115,441,525,966,2823,5060,7883,0.1562167906,0.1037549407,0.1225421794\\r\\n2014,908,705,1613,61,163,224,501,565,1066,1432,2505,3937,0.3498603352,0.2255489022,0.2707645415\\r\\n2013,1095,768,1863,16,56,72,356,366,722,2280,4434,6714,0.1561403509,0.08254397835,0.1075364909\\r\\n2012,930,726,1656,54,139,193,479,479,958,2014,3381,5395,0.2378351539,0.1416740609,0.1775718258\\r\\n2011,1102,993,2095,24,66,90,402,384,786,2447,4456,6903,0.1642827953,0.08617594255,0.1138635376\\r\\n2010,1075,879,1954,80,178,258,569,922,1491,1506,3098,4604,0.3778220452,0.2976113622,0.3238488271\\r\\n2009,1421,1247,2668,38,87,125,478,970,1448,3380,5699,9079,0.1414201183,0.1702052992,0.1594889305\\r\\n2008,988,890,1878,97,183,280,589,999,1588,1590,3225,4815,0.3704402516,0.3097674419,0.3298026999\\r\\n2007,1376,1248,2624,45,135,180,621,1127,1748,3033,6194,9227,0.2047477745,0.1819502745,0.189444023\\r\\n2006,1028,850,1878,100,213,313,635,710,1345,2302,2451,4753,0.2758470895,0.2896776826,0.282979171\\r\\n2005,1222,1067,2289,50,119,169,624,715,1339,2618,5703,8321,0.2383498854,0.1253726109,0.1609181589\\r\\n2004,1032,879,1911,84,216,300,663,747,1410,1318,2338,3656,0.5030349014,0.3195038494,0.3856673961\\r\\n2003,1454,1015,2469,62,136,198,590,674,1264,2398,4616,7014,0.2460383653,0.1460138648,0.1802110066\\r\\n2002,1043,772,1815,42,199,241,523,623,1146,1558,2711,4269,0.3356867779,0.2298045002,0.2684469431\\r\\n2001,1236,922,2158,27,109,136,425,592,1017,2212,4318,6530,0.1921338156,0.1371005095,0.1557427259\\r\\n2000,1018,1054,2072,131,279,410,696,877,1573,1546,2701,4247,0.4501940492,0.3246945576,0.3703790911\\r\\n1999,1184,1125,2309,48,122,170,549,657,1206,2352,4241,6593,0.2334183673,0.1549162933,0.1829212801\\r\\n1998,1095,998,2093,91,150,241,506,642,1148,1321,2254,3575,0.3830431491,0.2848269743,0.3211188811\\r\\n1997,1093,1004,2097,49,104,153,385,544,929,1840,3728,5568,0.2092391304,0.1459227468,0.1668462644\\r\\n1996,1037,919,1956,53,192,245,476,529,1005,860,1899,2759,0.5534883721,0.2785676672,0.3642624139\\r\\n1995,1839,1525,3364,28,60,88,346,483,829,1801,3430,5231,0.1921154914,0.1408163265,0.1584783024\\r\\n1994,1244,905,2149,87,168,255,465,579,1044,999,2104,3103,0.4654654655,0.2751901141,0.3364485981\\r\\n1993,1270,982,2252,83,127,210,473,547,1020,2178,4543,6721,0.2171717172,0.1204050187,0.1517631305\\r\\n1992,1091,857,1948,113,234,347,651,746,1397,1544,2714,4258,0.4216321244,0.2748710391,0.3280883044\\r\\n1991,1201,939,2140,81,162,243,626,592,1218,2701,5057,7758,0.2317660126,0.1170654538,0.1569992266\\r\\n1990,1250,939,2189,179,231,410,716,772,1488,1636,2769,4405,0.4376528117,0.2788010112,0.3377979569\\r\\n1989,1003,749,1752,90,150,240,605,598,1203,2548,4842,7390,0.2374411303,0.1235026848,0.1627875507\\r\\n1988,1127,749,1876,10,31,41,814,858,1672,1328,2414,3742,0.6129518072,0.3554266777,0.4468198824\\r\\n1987,1215,910,2125,96,144,240,616,644,1260,2685,4857,7542,0.2294227188,0.1325921351,0.1670644391\\r\\n1986,1278,829,2107,187,237,424,747,772,1519,1429,2396,3825,0.522743177,0.3222036728,0.397124183\\r\\n1985,1253,965,2218,110,130,240,583,596,1179,2651,5126,7777,0.2199170124,0.1162699961,0.1516008744\\r\\n1984,940,853,1793,166,242,408,726,737,1463,1302,2462,3764,0.5576036866,0.2993501219,0.3886822529\\r\\n1983,1011,852,1863,101,114,215,596,611,1207,2795,5642,8437,0.2132379249,0.1082949309,0.1430603295\\r\\n1982,1080,767,1847,131,197,328,721,625,1346,1586,2934,4520,0.4546027743,0.2130197682,0.2977876106\\r\\n1981,1080,626,1706,70,75,145,488,433,921,2479,6241,8720,0.19685357,0.06937990707,0.1056192661\\r\\n1980,1165,901,2066,161,265,426,831,812,1643,1482,2841,4323,0.5607287449,0.2858148539,0.3800601434\\r\\n1979,1159,975,2134,60,127,187,651,666,1317,2712,7459,10171,0.2400442478,0.08928810833,0.1294857929\\r\\n1978,1366,1016,2382,159,252,411,891,881,1772,1617,5310,6927,0.5510204082,0.165913371,0.2558105962\\r\\n1977,1144,882,2026,70,153,223,705,734,1439,2896,12490,15386,0.2434392265,0.05876701361,0.09352658261\\r\\n1976,1033,846,1879,141,242,383,870,870,1740,1489,5780,7269,0.5842847549,0.1505190311,0.2393726785\\r\\n1975,1177,942,2119,67,138,205,682,754,1436,3424,13591,17015,0.199182243,0.05547788978,0.08439612107\\r\\n1974,1068,813,1881,168,236,404,838,807,1645,1793,6901,8694,0.4673731177,0.116939574,0.1892109501'}"
            ]
          },
          "metadata": {
            "tags": []
          },
          "execution_count": 3
        }
      ]
    },
    {
      "cell_type": "code",
      "metadata": {
        "id": "azGZLpeF8h8R",
        "colab_type": "code",
        "colab": {}
      },
      "source": [
        "import pandas as pd\n",
        "import matplotlib.pyplot as plt\n",
        "import numpy as np\n",
        "import seaborn as sns\n",
        "plt.style.use('fivethirtyeight')\n",
        "\n",
        "dfy = pd.read_csv('LobbyingData4 - y.csv')\n",
        "dfz = pd.read_csv('LobbyingData4 - z.csv')\n",
        "\n",
        "df = pd.merge(dfz,dfy)\n",
        "\n",
        "df2 = df[df['Year'] % 2 == 0]\n",
        "df3 = df[df['Year']% 2 !=0]"
      ],
      "execution_count": 0,
      "outputs": []
    },
    {
      "cell_type": "code",
      "metadata": {
        "id": "4toQfPhV81cI",
        "colab_type": "code",
        "colab": {}
      },
      "source": [
        "# print(dfy.shape)\n",
        "# dfy.head()"
      ],
      "execution_count": 0,
      "outputs": []
    },
    {
      "cell_type": "code",
      "metadata": {
        "id": "y-Sl-zLvzHTU",
        "colab_type": "code",
        "colab": {}
      },
      "source": [
        "# print(dfz.shape)\n",
        "# dfz.head()"
      ],
      "execution_count": 0,
      "outputs": []
    },
    {
      "cell_type": "code",
      "metadata": {
        "id": "0MYyyjBRuvVP",
        "colab_type": "code",
        "colab": {}
      },
      "source": [
        "#df = pd.merge(dfz,dfy)\n",
        "#print(df.shape)\n",
        "#df.head()"
      ],
      "execution_count": 0,
      "outputs": []
    },
    {
      "cell_type": "code",
      "metadata": {
        "id": "seqy485hpGoC",
        "colab_type": "code",
        "colab": {}
      },
      "source": [
        "# fig, ax = plt.subplots(figsize=(7,5))\n",
        "# ax.scatter(df['Year'],df['miT'], color = 'orange')"
      ],
      "execution_count": 0,
      "outputs": []
    },
    {
      "cell_type": "code",
      "metadata": {
        "id": "wCgM_kGgwhdy",
        "colab_type": "code",
        "colab": {}
      },
      "source": [
        "#accounting for biannual variation\n",
        "# df2 = df[df['Year'] % 2 == 0]\n",
        "# df3 = df[df['Year']% 2 !=0]\n",
        "# df2. head()\n",
        "# df3.head()"
      ],
      "execution_count": 0,
      "outputs": []
    },
    {
      "cell_type": "markdown",
      "metadata": {
        "id": "0-Q6XU9qKOyg",
        "colab_type": "text"
      },
      "source": [
        "## Plot 1. miT vs Even/Odd Year, s = pmT (1)"
      ]
    },
    {
      "cell_type": "code",
      "metadata": {
        "id": "Xy7eJ49Ty66L",
        "colab_type": "code",
        "outputId": "d9d97092-0310-49e8-d667-a87d8555423e",
        "colab": {
          "base_uri": "https://localhost:8080/",
          "height": 389
        }
      },
      "source": [
        "from scipy import stats\n",
        "import matplotlib.pyplot as plt\n",
        "\n",
        "# slope, intercept, r_value, p_value, std_err = stats.linregress(df2['Year'],df2['mT'])\n",
        "# line1 = slope*df2['Year']+intercept\n",
        "# slope, intercept, r_value, p_value, std_err = stats.linregress(df3['Year'],df3['mT'])\n",
        "# line2 = slope*df2['Year']+intercept\n",
        "\n",
        "#Plot Styling\n",
        "plt.style.use('ggplot')\n",
        "fig, ax = plt.subplots(figsize=(7,5))\n",
        "\n",
        "\n",
        "#Plot Data\n",
        "ax.scatter(df2['Year'],df2['miT'], s = df2['pmT']*400, label = 'Election Year', alpha = 0.5, c = 'b') #blue is even\n",
        "ax.scatter(df3['Year'],df3['miT'], s = df3['pmT']*400, label = 'Off Year', alpha = 0.4, c = 'r') #odd is red\n",
        "ax.legend()\n",
        "\n",
        "#Plot Labels\n",
        "ax.set_xlabel(r'Year', fontsize=13)\n",
        "ax.set_ylabel(r'Measures Introduced', fontsize=13)\n",
        "ax.set_title('Fewer Measures Introduced On Election Years', fontsize = 20, fontweight = 'bold', loc = 'left', y = 1.05, alpha = .8)\n",
        "ax.text(x=1972, y=18000, s='Size represents proportion of measures that are passed', fontsize=12, alpha = .7)\n",
        "\n",
        "plt.rcParams[\"legend.edgecolor\"]= 'k'\n",
        "\n",
        "\n",
        "#Saving the Figure\n",
        "\n",
        "plt.savefig('ds7p1p1.jpg', transparent=False, dpi=80, bbox_inches=\"tight\")\n",
        "  \n",
        "# ax.plot(df2['Year'],df2['mT'],'o',df2['Year'],line1,color = 'b') #linear regression best fit line\n",
        "# ax.plot(df2['Year'],df3['mT'],'o',df3['Year'],line2,color = 'r') #linear regression best fit line\n",
        "\n",
        "#miT Even vs Odd Yr. StatTest Results: Ttest_indResult(statistic=-5.758609014136231, pvalue=8.198372961510997e-07)"
      ],
      "execution_count": 0,
      "outputs": [
        {
          "output_type": "display_data",
          "data": {
            "image/png": "[encoded data removed]",
            "text/plain": [
              "<Figure size 504x360 with 1 Axes>"
            ]
          },
          "metadata": {
            "tags": []
          }
        }
      ]
    },
    {
      "cell_type": "markdown",
      "metadata": {
        "id": "pZOtD3k4J3OA",
        "colab_type": "text"
      },
      "source": [
        "## Plot 2. bT vs Even/Odd Year, s = tT (1)"
      ]
    },
    {
      "cell_type": "code",
      "metadata": {
        "id": "49xzg4uLDq2q",
        "colab_type": "code",
        "outputId": "59945c89-3b34-4a8f-b913-e436374b8310",
        "colab": {
          "base_uri": "https://localhost:8080/",
          "height": 389
        }
      },
      "source": [
        "#Plot Styling\n",
        "plt.style.use('ggplot')\n",
        "fig, ax = plt.subplots(figsize=(7,5))\n",
        "\n",
        "\n",
        "#Plot Data\n",
        "ax.scatter(df2['Year'],df2['bT'], s = df2['tT']*.100, label = 'Election Year', alpha = 0.5, c = 'b') #blue is even\n",
        "ax.scatter(df3['Year'],df3['bT'], s = df2['tT']*.100, label = 'Off Year', alpha = 0.4, c = 'r') #odd is red\n",
        "ax.legend()\n",
        "\n",
        "#Plot Labels\n",
        "ax.set_xlabel(r'Year', fontsize=13)\n",
        "ax.set_ylabel(r'Bills Passed Into Law', fontsize=13)\n",
        "ax.set_title('More Bills Become Laws On Election Years', fontsize = 20, fontweight = 'bold', alpha = .8, loc = 'left', y = 1.05)\n",
        "ax.text(x=1972, y=450, s='Size represents duration of Session', fontsize=12, alpha = .7)\n",
        "\n",
        "slope, intercept, r_value, p_value, std_err = stats.linregress(df2['Year'],df2['bT'])\n",
        "line1 = slope*df2['Year']+intercept\n",
        "ax.plot(df2['Year'],df2['bT'],'o',df2['Year'],line1, alpha = .3, color = 'b') #linear regression best fit line\n",
        "\n",
        "slope, intercept, r_value, p_value, std_err = stats.linregress(df3['Year'],df3['bT'])\n",
        "line2 = slope*df3['Year']+intercept\n",
        "ax.plot(df3['Year'],df3['bT'],'o',df3['Year'],line2, alpha = .3, color = 'r') #linear regression best fit line\n",
        "\n",
        "plt.rcParams[\"legend.edgecolor\"]= 'k'\n",
        "\n",
        "\n",
        "#bT Even vs Odd Yr. StatTest Results: Ttest_indResult(statistic=5.632737510891423, pvalue=1.2478528215425619e-06) "
      ],
      "execution_count": 0,
      "outputs": [
        {
          "output_type": "display_data",
          "data": {
            "image/png": "[encoded data removed]",
            "text/plain": [
              "<Figure size 504x360 with 1 Axes>"
            ]
          },
          "metadata": {
            "tags": []
          }
        }
      ]
    },
    {
      "cell_type": "markdown",
      "metadata": {
        "id": "voTON9MyMRum",
        "colab_type": "text"
      },
      "source": [
        "## Statistical Tests: 2samp Ttest (1) (2, election cycle)"
      ]
    },
    {
      "cell_type": "code",
      "metadata": {
        "id": "fJm0aMtP59-C",
        "colab_type": "code",
        "outputId": "654169e9-709a-4758-b6f1-28bb15d22867",
        "colab": {
          "base_uri": "https://localhost:8080/",
          "height": 34
        }
      },
      "source": [
        "# inferential stats example: \n",
        "from scipy.stats import ttest_ind, ttest_1samp\n",
        "\n",
        "ttest_ind(df2['miT'], df3['miT']) # null may be rejected (p-value of 8.2e-7)\n",
        "#now apply this statistical test to other measures \n",
        "ttest_ind(df2['ya'], df3['ya'], nan_policy = 'omit')\n",
        "\n",
        "#outcome: miT, mT, bT, pmT all pass well; tH,tS, and tT to a lesser extent (p-value = .008, .003 and .003, respectively) \n",
        "# outcome(2): for yb and ya, null cannot be rejected (p-value = .356, .596) -> this is important! voter opinion does not change (in a stat.ly sig. manner)\n",
        "#             between even and odd years; between election and off years --> don't need to control for year in analysis of y variable, \n",
        "#             but perhaps best that you do; .356 is not neglibibly insignificant, not in the context of the social sciences \n",
        "\n",
        "#\n",
        "# Hints at future potential application of ttest fxn for verification of disassociation between select variables"
      ],
      "execution_count": 0,
      "outputs": [
        {
          "output_type": "execute_result",
          "data": {
            "text/plain": [
              "Ttest_indResult(statistic=0.5345057561285327, pvalue=0.5959503720519603)"
            ]
          },
          "metadata": {
            "tags": []
          },
          "execution_count": 7
        }
      ]
    },
    {
      "cell_type": "markdown",
      "metadata": {
        "id": "UAdPRnybMdXx",
        "colab_type": "text"
      },
      "source": [
        "## extra plots"
      ]
    },
    {
      "cell_type": "code",
      "metadata": {
        "id": "CTN6lFjvzO_U",
        "colab_type": "code",
        "outputId": "034c7535-aeac-4898-964e-a2ab205ef080",
        "colab": {
          "base_uri": "https://localhost:8080/",
          "height": 357
        }
      },
      "source": [
        "#now examining proportion measures passed, and the biannual distinction; color selection is a political process of course; should I switch to green and orange?\n",
        "plt.style.use('fivethirtyeight')\n",
        "fig, ax = plt.subplots(figsize=(7,5))\n",
        "ax.scatter(df2['Year'],df2['pmT'], color = 'b')\n",
        "ax.scatter(df3['Year'],df3['pmT'], color = 'r')\n",
        "\n"
      ],
      "execution_count": 0,
      "outputs": [
        {
          "output_type": "execute_result",
          "data": {
            "text/plain": [
              "<matplotlib.collections.PathCollection at 0x7f8916cf2a20>"
            ]
          },
          "metadata": {
            "tags": []
          },
          "execution_count": 8
        },
        {
          "output_type": "display_data",
          "data": {
            "image/png": "[encoded data removed]",
            "text/plain": [
              "<Figure size 504x360 with 1 Axes>"
            ]
          },
          "metadata": {
            "tags": []
          }
        }
      ]
    },
    {
      "cell_type": "code",
      "metadata": {
        "id": "N4MUPY5D0gKQ",
        "colab_type": "code",
        "outputId": "4f5f79c9-87fb-405e-b62a-daaf9c6ea28f",
        "colab": {
          "base_uri": "https://localhost:8080/",
          "height": 357
        }
      },
      "source": [
        "# now looking at the passage of bills into (public) law; see if there's a biannual trend here as well\n",
        "plt.style.use('fivethirtyeight')\n",
        "fig, ax = plt.subplots(figsize=(7,5))\n",
        "ax.scatter(df2['Year'],df2['bT'], color = 'b')\n",
        "ax.plot(df2['Year'],df2['bT'], color = 'b')\n",
        "ax.scatter(df3['Year'],df3['bT'], color = 'r')\n",
        "ax.plot(df3['Year'],df3['bT'], color = 'r')\n",
        "\n",
        "\n",
        "#so even on the measure of bills passed into law (per session of Congress), there appears to be a seperate trend for odd and even years. Thus, \n",
        "# I will hence forth treat them seperate of each other in analyses of correlatory relations with the independent variable - the extent of \n",
        "# negative attitude towards Congress. "
      ],
      "execution_count": 0,
      "outputs": [
        {
          "output_type": "execute_result",
          "data": {
            "text/plain": [
              "[<matplotlib.lines.Line2D at 0x7f89143859e8>]"
            ]
          },
          "metadata": {
            "tags": []
          },
          "execution_count": 9
        },
        {
          "output_type": "display_data",
          "data": {
            "image/png": "[encoded data removed]",
            "text/plain": [
              "<Figure size 504x360 with 1 Axes>"
            ]
          },
          "metadata": {
            "tags": []
          }
        }
      ]
    },
    {
      "cell_type": "code",
      "metadata": {
        "id": "6Xpb-6U_5Gh0",
        "colab_type": "code",
        "outputId": "34ccd03d-fc10-47a1-cc07-983725a8ae85",
        "colab": {
          "base_uri": "https://localhost:8080/",
          "height": 224
        }
      },
      "source": [
        "df.head()"
      ],
      "execution_count": 0,
      "outputs": [
        {
          "output_type": "execute_result",
          "data": {
            "text/html": [
              "<div>\n",
              "<style scoped>\n",
              "    .dataframe tbody tr th:only-of-type {\n",
              "        vertical-align: middle;\n",
              "    }\n",
              "\n",
              "    .dataframe tbody tr th {\n",
              "        vertical-align: top;\n",
              "    }\n",
              "\n",
              "    .dataframe thead th {\n",
              "        text-align: right;\n",
              "    }\n",
              "</style>\n",
              "<table border=\"1\" class=\"dataframe\">\n",
              "  <thead>\n",
              "    <tr style=\"text-align: right;\">\n",
              "      <th></th>\n",
              "      <th>Year</th>\n",
              "      <th>tS</th>\n",
              "      <th>tH</th>\n",
              "      <th>tT</th>\n",
              "      <th>bH</th>\n",
              "      <th>bS</th>\n",
              "      <th>bT</th>\n",
              "      <th>mH</th>\n",
              "      <th>mS</th>\n",
              "      <th>mT</th>\n",
              "      <th>miH</th>\n",
              "      <th>miS</th>\n",
              "      <th>miT</th>\n",
              "      <th>pmH</th>\n",
              "      <th>pmS</th>\n",
              "      <th>pmT</th>\n",
              "      <th>ya</th>\n",
              "      <th>yb</th>\n",
              "      <th>yc</th>\n",
              "      <th>yd</th>\n",
              "    </tr>\n",
              "  </thead>\n",
              "  <tbody>\n",
              "    <tr>\n",
              "      <th>0</th>\n",
              "      <td>2018</td>\n",
              "      <td>1015</td>\n",
              "      <td>658</td>\n",
              "      <td>1673</td>\n",
              "      <td>73</td>\n",
              "      <td>165</td>\n",
              "      <td>238</td>\n",
              "      <td>641</td>\n",
              "      <td>816</td>\n",
              "      <td>1457</td>\n",
              "      <td>1967</td>\n",
              "      <td>3259</td>\n",
              "      <td>5226</td>\n",
              "      <td>0.325877</td>\n",
              "      <td>0.250384</td>\n",
              "      <td>0.278798</td>\n",
              "      <td>76.538462</td>\n",
              "      <td>48.0</td>\n",
              "      <td>NaN</td>\n",
              "      <td>NaN</td>\n",
              "    </tr>\n",
              "    <tr>\n",
              "      <th>1</th>\n",
              "      <td>2017</td>\n",
              "      <td>1167</td>\n",
              "      <td>859</td>\n",
              "      <td>2026</td>\n",
              "      <td>33</td>\n",
              "      <td>67</td>\n",
              "      <td>100</td>\n",
              "      <td>438</td>\n",
              "      <td>668</td>\n",
              "      <td>1106</td>\n",
              "      <td>2713</td>\n",
              "      <td>5619</td>\n",
              "      <td>8332</td>\n",
              "      <td>0.161445</td>\n",
              "      <td>0.118882</td>\n",
              "      <td>0.132741</td>\n",
              "      <td>75.166667</td>\n",
              "      <td>47.0</td>\n",
              "      <td>NaN</td>\n",
              "      <td>NaN</td>\n",
              "    </tr>\n",
              "    <tr>\n",
              "      <th>2</th>\n",
              "      <td>2016</td>\n",
              "      <td>781</td>\n",
              "      <td>633</td>\n",
              "      <td>1414</td>\n",
              "      <td>73</td>\n",
              "      <td>141</td>\n",
              "      <td>214</td>\n",
              "      <td>485</td>\n",
              "      <td>659</td>\n",
              "      <td>1144</td>\n",
              "      <td>1466</td>\n",
              "      <td>2714</td>\n",
              "      <td>4180</td>\n",
              "      <td>0.330832</td>\n",
              "      <td>0.242815</td>\n",
              "      <td>0.273684</td>\n",
              "      <td>79.166667</td>\n",
              "      <td>55.0</td>\n",
              "      <td>NaN</td>\n",
              "      <td>NaN</td>\n",
              "    </tr>\n",
              "    <tr>\n",
              "      <th>3</th>\n",
              "      <td>2015</td>\n",
              "      <td>1074</td>\n",
              "      <td>805</td>\n",
              "      <td>1879</td>\n",
              "      <td>37</td>\n",
              "      <td>78</td>\n",
              "      <td>115</td>\n",
              "      <td>441</td>\n",
              "      <td>525</td>\n",
              "      <td>966</td>\n",
              "      <td>2823</td>\n",
              "      <td>5060</td>\n",
              "      <td>7883</td>\n",
              "      <td>0.156217</td>\n",
              "      <td>0.103755</td>\n",
              "      <td>0.122542</td>\n",
              "      <td>79.583333</td>\n",
              "      <td>53.0</td>\n",
              "      <td>69.0</td>\n",
              "      <td>52.0</td>\n",
              "    </tr>\n",
              "    <tr>\n",
              "      <th>4</th>\n",
              "      <td>2014</td>\n",
              "      <td>908</td>\n",
              "      <td>705</td>\n",
              "      <td>1613</td>\n",
              "      <td>61</td>\n",
              "      <td>163</td>\n",
              "      <td>224</td>\n",
              "      <td>501</td>\n",
              "      <td>565</td>\n",
              "      <td>1066</td>\n",
              "      <td>1432</td>\n",
              "      <td>2505</td>\n",
              "      <td>3937</td>\n",
              "      <td>0.349860</td>\n",
              "      <td>0.225549</td>\n",
              "      <td>0.270765</td>\n",
              "      <td>81.000000</td>\n",
              "      <td>57.0</td>\n",
              "      <td>69.0</td>\n",
              "      <td>54.0</td>\n",
              "    </tr>\n",
              "  </tbody>\n",
              "</table>\n",
              "</div>"
            ],
            "text/plain": [
              "   Year    tS   tH    tT  bH  ...       pmT         ya    yb    yc    yd\n",
              "0  2018  1015  658  1673  73  ...  0.278798  76.538462  48.0   NaN   NaN\n",
              "1  2017  1167  859  2026  33  ...  0.132741  75.166667  47.0   NaN   NaN\n",
              "2  2016   781  633  1414  73  ...  0.273684  79.166667  55.0   NaN   NaN\n",
              "3  2015  1074  805  1879  37  ...  0.122542  79.583333  53.0  69.0  52.0\n",
              "4  2014   908  705  1613  61  ...  0.270765  81.000000  57.0  69.0  54.0\n",
              "\n",
              "[5 rows x 20 columns]"
            ]
          },
          "metadata": {
            "tags": []
          },
          "execution_count": 15
        }
      ]
    },
    {
      "cell_type": "markdown",
      "metadata": {
        "id": "hiJuNkZBE9Xd",
        "colab_type": "text"
      },
      "source": [
        "## Plot 3: General Opinion Trend (3)\n",
        "showing public opinion of Congress is beyond the subtle influence of Congressional activity and the election cycle, size of individual data points indicates pmT"
      ]
    },
    {
      "cell_type": "code",
      "metadata": {
        "id": "3UwDsbVB2DcZ",
        "colab_type": "code",
        "outputId": "6dcf5678-ad13-42fb-ac1a-c7de270dfbb5",
        "colab": {
          "base_uri": "https://localhost:8080/",
          "height": 389
        }
      },
      "source": [
        "#Plot Styling\n",
        "plt.style.use('ggplot')\n",
        "fig, ax = plt.subplots(figsize=(7,5))\n",
        "\n",
        "#Plot Data\n",
        "ax.scatter(df2['Year'],df2['ya'], s = df2['pmT']*250, label = 'Election Year', alpha = 0.5, c = 'b') #blue is even\n",
        "ax.scatter(df3['Year'],df3['ya'], s = df3['pmT']*250, label = 'Off Year', alpha = 0.4, c = 'r') #odd is red\n",
        "ax.legend(loc = 4)\n",
        "\n",
        "#Plot Labels\n",
        "ax.set_xlabel(r'Year', fontsize=13)\n",
        "ax.set_ylabel(r'Public Disapproval of Congress (%)', fontsize=13)\n",
        "ax.set_title('Public Opinion Follows A Greater Trend', fontsize = 20, fontweight = 'bold', alpha = .8, loc = 'left', y = 1.05)\n",
        "ax.text(x=1972, y=84.5, s='Size represents the proportion of measures that are passed', fontsize=12, alpha = .7)\n",
        "\n",
        "plt.rcParams[\"legend.edgecolor\"]= 'k'\n",
        "\n",
        "# slope, intercept, r_value, p_value, std_err = stats.linregress(df2['Year'],df2['bT'])\n",
        "# line1 = slope*df2['Year']+intercept\n",
        "# ax.plot(df2['Year'],df2['bT'],'o',df2['Year'],line1, alpha = .3, color = 'b') #linear regression best fit line\n",
        "\n",
        "# slope, intercept, r_value, p_value, std_err = stats.linregress(df3['Year'],df3['bT'])\n",
        "# line2 = slope*df3['Year']+intercept\n",
        "# ax.plot(df3['Year'],df3['bT'],'o',df3['Year'],line2, alpha = .3, color = 'r') #linear regression best fit line\n",
        "\n"
      ],
      "execution_count": 0,
      "outputs": [
        {
          "output_type": "display_data",
          "data": {
            "image/png": "[encoded data removed]",
            "text/plain": [
              "<Figure size 504x360 with 1 Axes>"
            ]
          },
          "metadata": {
            "tags": []
          }
        }
      ]
    },
    {
      "cell_type": "code",
      "metadata": {
        "id": "3wNmuwi5bD-x",
        "colab_type": "code",
        "colab": {}
      },
      "source": [
        "#insert code for statistical test..."
      ],
      "execution_count": 0,
      "outputs": []
    },
    {
      "cell_type": "markdown",
      "metadata": {
        "id": "myUgzV1LIwxX",
        "colab_type": "text"
      },
      "source": [
        "## (extra) Full, Presidential election years sub-sxn."
      ]
    },
    {
      "cell_type": "code",
      "metadata": {
        "id": "OLJ6nJ8p_O1D",
        "colab_type": "code",
        "outputId": "409134ff-b93f-494d-9e7d-c9013a7e7655",
        "colab": {
          "base_uri": "https://localhost:8080/",
          "height": 224
        }
      },
      "source": [
        "pres_elect_years = [1976,1980,1984,1988,1992,1996,2000,2004,2008,2012,2016]\n",
        "full_years = df[df.Year.isin(pres_elect_years)]\n",
        "full_years.head()"
      ],
      "execution_count": 0,
      "outputs": [
        {
          "output_type": "execute_result",
          "data": {
            "text/html": [
              "<div>\n",
              "<style scoped>\n",
              "    .dataframe tbody tr th:only-of-type {\n",
              "        vertical-align: middle;\n",
              "    }\n",
              "\n",
              "    .dataframe tbody tr th {\n",
              "        vertical-align: top;\n",
              "    }\n",
              "\n",
              "    .dataframe thead th {\n",
              "        text-align: right;\n",
              "    }\n",
              "</style>\n",
              "<table border=\"1\" class=\"dataframe\">\n",
              "  <thead>\n",
              "    <tr style=\"text-align: right;\">\n",
              "      <th></th>\n",
              "      <th>Year</th>\n",
              "      <th>tS</th>\n",
              "      <th>tH</th>\n",
              "      <th>tT</th>\n",
              "      <th>bH</th>\n",
              "      <th>bS</th>\n",
              "      <th>bT</th>\n",
              "      <th>mH</th>\n",
              "      <th>mS</th>\n",
              "      <th>mT</th>\n",
              "      <th>miH</th>\n",
              "      <th>miS</th>\n",
              "      <th>miT</th>\n",
              "      <th>pmH</th>\n",
              "      <th>pmS</th>\n",
              "      <th>pmT</th>\n",
              "      <th>ya</th>\n",
              "      <th>yb</th>\n",
              "      <th>yc</th>\n",
              "      <th>yd</th>\n",
              "    </tr>\n",
              "  </thead>\n",
              "  <tbody>\n",
              "    <tr>\n",
              "      <th>2</th>\n",
              "      <td>2016</td>\n",
              "      <td>781</td>\n",
              "      <td>633</td>\n",
              "      <td>1414</td>\n",
              "      <td>73</td>\n",
              "      <td>141</td>\n",
              "      <td>214</td>\n",
              "      <td>485</td>\n",
              "      <td>659</td>\n",
              "      <td>1144</td>\n",
              "      <td>1466</td>\n",
              "      <td>2714</td>\n",
              "      <td>4180</td>\n",
              "      <td>0.330832</td>\n",
              "      <td>0.242815</td>\n",
              "      <td>0.273684</td>\n",
              "      <td>79.166667</td>\n",
              "      <td>55.0</td>\n",
              "      <td>NaN</td>\n",
              "      <td>NaN</td>\n",
              "    </tr>\n",
              "    <tr>\n",
              "      <th>6</th>\n",
              "      <td>2012</td>\n",
              "      <td>930</td>\n",
              "      <td>726</td>\n",
              "      <td>1656</td>\n",
              "      <td>54</td>\n",
              "      <td>139</td>\n",
              "      <td>193</td>\n",
              "      <td>479</td>\n",
              "      <td>479</td>\n",
              "      <td>958</td>\n",
              "      <td>2014</td>\n",
              "      <td>3381</td>\n",
              "      <td>5395</td>\n",
              "      <td>0.237835</td>\n",
              "      <td>0.141674</td>\n",
              "      <td>0.177572</td>\n",
              "      <td>79.166667</td>\n",
              "      <td>52.0</td>\n",
              "      <td>NaN</td>\n",
              "      <td>NaN</td>\n",
              "    </tr>\n",
              "    <tr>\n",
              "      <th>10</th>\n",
              "      <td>2008</td>\n",
              "      <td>988</td>\n",
              "      <td>890</td>\n",
              "      <td>1878</td>\n",
              "      <td>97</td>\n",
              "      <td>183</td>\n",
              "      <td>280</td>\n",
              "      <td>589</td>\n",
              "      <td>999</td>\n",
              "      <td>1588</td>\n",
              "      <td>1590</td>\n",
              "      <td>3225</td>\n",
              "      <td>4815</td>\n",
              "      <td>0.370440</td>\n",
              "      <td>0.309767</td>\n",
              "      <td>0.329803</td>\n",
              "      <td>73.583333</td>\n",
              "      <td>41.0</td>\n",
              "      <td>NaN</td>\n",
              "      <td>NaN</td>\n",
              "    </tr>\n",
              "    <tr>\n",
              "      <th>14</th>\n",
              "      <td>2004</td>\n",
              "      <td>1032</td>\n",
              "      <td>879</td>\n",
              "      <td>1911</td>\n",
              "      <td>84</td>\n",
              "      <td>216</td>\n",
              "      <td>300</td>\n",
              "      <td>663</td>\n",
              "      <td>747</td>\n",
              "      <td>1410</td>\n",
              "      <td>1318</td>\n",
              "      <td>2338</td>\n",
              "      <td>3656</td>\n",
              "      <td>0.503035</td>\n",
              "      <td>0.319504</td>\n",
              "      <td>0.385667</td>\n",
              "      <td>51.000000</td>\n",
              "      <td>21.0</td>\n",
              "      <td>NaN</td>\n",
              "      <td>NaN</td>\n",
              "    </tr>\n",
              "    <tr>\n",
              "      <th>18</th>\n",
              "      <td>2000</td>\n",
              "      <td>1018</td>\n",
              "      <td>1054</td>\n",
              "      <td>2072</td>\n",
              "      <td>131</td>\n",
              "      <td>279</td>\n",
              "      <td>410</td>\n",
              "      <td>696</td>\n",
              "      <td>877</td>\n",
              "      <td>1573</td>\n",
              "      <td>1546</td>\n",
              "      <td>2701</td>\n",
              "      <td>4247</td>\n",
              "      <td>0.450194</td>\n",
              "      <td>0.324695</td>\n",
              "      <td>0.370379</td>\n",
              "      <td>42.400000</td>\n",
              "      <td>27.0</td>\n",
              "      <td>NaN</td>\n",
              "      <td>NaN</td>\n",
              "    </tr>\n",
              "  </tbody>\n",
              "</table>\n",
              "</div>"
            ],
            "text/plain": [
              "    Year    tS    tH    tT   bH  ...       pmT         ya    yb  yc  yd\n",
              "2   2016   781   633  1414   73  ...  0.273684  79.166667  55.0 NaN NaN\n",
              "6   2012   930   726  1656   54  ...  0.177572  79.166667  52.0 NaN NaN\n",
              "10  2008   988   890  1878   97  ...  0.329803  73.583333  41.0 NaN NaN\n",
              "14  2004  1032   879  1911   84  ...  0.385667  51.000000  21.0 NaN NaN\n",
              "18  2000  1018  1054  2072  131  ...  0.370379  42.400000  27.0 NaN NaN\n",
              "\n",
              "[5 rows x 20 columns]"
            ]
          },
          "metadata": {
            "tags": []
          },
          "execution_count": 18
        }
      ]
    },
    {
      "cell_type": "code",
      "metadata": {
        "id": "6Udb4oXEhDKr",
        "colab_type": "code",
        "colab": {}
      },
      "source": [
        "# For another time: analysis of diff. between full years and not full years (full = presidential election)\n",
        "\n",
        "# plt.style.use('fivethirtyeight')\n",
        "# fig, ax = plt.subplots(figsize=(7,5))\n",
        "# # ax.scatter(df2['Year'],df2['pmT'], color = 'b')\n",
        "# # ax.scatter(df3['Year'],df3['pmT'], color = 'r')\n",
        "# ax.scatter(full_years['Year'], full_years['ya'], color = 'red')\n",
        "# ax.scatter(even_df['Year'], even_df['ya'], color ='blue', alpha = .2)\n",
        "# ax.scatter(df['Year'],df['ya'], color = 'purple',alpha = .3)\n",
        "\n"
      ],
      "execution_count": 0,
      "outputs": []
    },
    {
      "cell_type": "markdown",
      "metadata": {
        "id": "CJ_7JQ-6I7zN",
        "colab_type": "text"
      },
      "source": [
        "## Importing party majority/election result data\n",
        "party_df found here"
      ]
    },
    {
      "cell_type": "code",
      "metadata": {
        "id": "ICgOBijVD8PV",
        "colab_type": "code",
        "outputId": "7ba6ced7-32d1-4770-edc4-706fb168d1ba",
        "colab": {
          "resources": {
            "http://localhost:8080/nbextensions/google.colab/files.js": {
              "data": "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",
              "ok": true,
              "headers": [
                [
                  "content-type",
                  "application/javascript"
                ]
              ],
              "status": 200,
              "status_text": ""
            }
          },
          "base_uri": "https://localhost:8080/",
          "height": 112
        }
      },
      "source": [
        "#How does the party majority (in Congress, and in the White House) impact \n",
        "# the proportion of bills and measures passed (in the House and Senate)?\n",
        "\n",
        "# #First need the data for seat distribution, by year (1974-2018)\n",
        "\n",
        "from google.colab import files\n",
        "files.upload()\n"
      ],
      "execution_count": 0,
      "outputs": [
        {
          "output_type": "display_data",
          "data": {
            "text/html": [
              "\n",
              "     <input type=\"file\" id=\"files-368a2f86-babe-4c68-b4d5-bd2300119e70\" name=\"files[]\" multiple disabled />\n",
              "     <output id=\"result-368a2f86-babe-4c68-b4d5-bd2300119e70\">\n",
              "      Upload widget is only available when the cell has been executed in the\n",
              "      current browser session. Please rerun this cell to enable.\n",
              "      </output>\n",
              "      <script src=\"/nbextensions/google.colab/files.js\"></script> "
            ],
            "text/plain": [
              "<IPython.core.display.HTML object>"
            ]
          },
          "metadata": {
            "tags": []
          }
        },
        {
          "output_type": "stream",
          "text": [
            "Saving LobbyingData4 - Party Strength-3.csv to LobbyingData4 - Party Strength-3.csv\n"
          ],
          "name": "stdout"
        },
        {
          "output_type": "execute_result",
          "data": {
            "text/plain": [
              "{'LobbyingData4 - Party Strength-3.csv': b'Year,Executive,Majority_H,Party_H,Majority_S,Party_S,Majority_Quality,Party_Majority,unified_Congress\\r\\n1974,R,0.571,D,0.576,D,2,D,1\\r\\n1975,R,0.66,D,0.620,D,2,D,1\\r\\n1976,R,0.66,D,0.620,D,2,D,1\\r\\n1977,D,0.661,D,0.580,D,3,D,1\\r\\n1978,D,0.661,D,0.580,D,3,D,1\\r\\n1979,D,0.631,D,0.550,D,3,D,1\\r\\n1980,D,0.631,D,0.550,D,3,D,1\\r\\n1981,R,0.558,D,0.530,R,2,R,0\\r\\n1982,R,0.558,D,0.530,R,2,R,0\\r\\n1983,R,0.615,D,0.550,R,2,R,0\\r\\n1984,R,0.615,D,0.550,R,2,R,0\\r\\n1985,R,0.582,D,0.520,R,2,R,0\\r\\n1986,R,0.582,D,0.520,R,2,R,0\\r\\n1987,R,0.588,D,0.545,D,2,D,1\\r\\n1988,R,0.588,D,0.545,D,2,D,1\\r\\n1989,R,0.577,D,0.550,D,2,D,1\\r\\n1990,R,0.577,D,0.550,D,2,D,1\\r\\n1991,R,0.621,D,0.580,D,2,D,1\\r\\n1992,R,0.621,D,0.580,D,2,D,1\\r\\n1993,D,0.592,D,0.530,D,3,D,1\\r\\n1994,D,0.592,D,0.530,D,3,D,1\\r\\n1995,D,0.54,R,0.530,R,2,R,1\\r\\n1996,D,0.54,R,0.530,R,2,R,1\\r\\n1997,D,0.524,R,0.550,R,2,R,1\\r\\n1998,D,0.524,R,0.550,R,2,R,1\\r\\n1999,D,0.512,R,0.540,R,2,R,1\\r\\n2000,D,0.512,R,0.540,R,2,R,1\\r\\n2001,R,0.515,R,0.500,R,3,R,1\\r\\n2002,R,0.515,R,0.500,R,3,R,1\\r\\n2003,R,0.52,R,0.510,R,3,R,1\\r\\n2004,R,0.52,R,0.510,R,3,R,1\\r\\n2005,R,0.53,R,0.550,R,3,R,1\\r\\n2006,R,0.53,R,0.550,R,3,R,1\\r\\n2007,R,0.543,D,0.505,D,2,D,1\\r\\n2008,R,0.543,D,0.505,D,2,D,1\\r\\n2009,D,0.588,D,0.580,D,3,D,1\\r\\n2010,D,0.588,D,0.580,D,3,D,1\\r\\n2011,D,0.557,R,0.530,D,2,D,0\\r\\n2012,D,0.557,R,0.530,D,2,D,0\\r\\n2013,D,0.538,R,0.550,D,2,D,0\\r\\n2014,D,0.538,R,0.550,D,2,D,0\\r\\n2015,D,0.568,R,0.540,R,2,R,1\\r\\n2016,D,0.568,R,0.540,R,2,R,1\\r\\n2017,R,0.546,R,0.505,R,3,R,1\\r\\n2018,R,0.546,R,0.505,R,3,R,1'}"
            ]
          },
          "metadata": {
            "tags": []
          },
          "execution_count": 26
        }
      ]
    },
    {
      "cell_type": "code",
      "metadata": {
        "id": "hlPpdUrzQ-HF",
        "colab_type": "code",
        "outputId": "92a65ad6-19dd-4843-dd2c-ceee55ceb6d9",
        "colab": {
          "base_uri": "https://localhost:8080/",
          "height": 246
        }
      },
      "source": [
        "dfx = pd.read_csv('LobbyingData4 - Party Strength-3.csv')\n",
        "#print(dfx.shape)\n",
        "#dfx.head()\n",
        "\n",
        "party_df = pd.merge(dfx, df)\n",
        "print(party_df.shape)\n",
        "party_df.head()"
      ],
      "execution_count": 0,
      "outputs": [
        {
          "output_type": "stream",
          "text": [
            "(45, 28)\n"
          ],
          "name": "stdout"
        },
        {
          "output_type": "execute_result",
          "data": {
            "text/html": [
              "<div>\n",
              "<style scoped>\n",
              "    .dataframe tbody tr th:only-of-type {\n",
              "        vertical-align: middle;\n",
              "    }\n",
              "\n",
              "    .dataframe tbody tr th {\n",
              "        vertical-align: top;\n",
              "    }\n",
              "\n",
              "    .dataframe thead th {\n",
              "        text-align: right;\n",
              "    }\n",
              "</style>\n",
              "<table border=\"1\" class=\"dataframe\">\n",
              "  <thead>\n",
              "    <tr style=\"text-align: right;\">\n",
              "      <th></th>\n",
              "      <th>Year</th>\n",
              "      <th>Executive</th>\n",
              "      <th>Majority_H</th>\n",
              "      <th>Party_H</th>\n",
              "      <th>Majority_S</th>\n",
              "      <th>Party_S</th>\n",
              "      <th>Majority_Quality</th>\n",
              "      <th>Party_Majority</th>\n",
              "      <th>unified_Congress</th>\n",
              "      <th>tS</th>\n",
              "      <th>tH</th>\n",
              "      <th>tT</th>\n",
              "      <th>bH</th>\n",
              "      <th>bS</th>\n",
              "      <th>bT</th>\n",
              "      <th>mH</th>\n",
              "      <th>mS</th>\n",
              "      <th>mT</th>\n",
              "      <th>miH</th>\n",
              "      <th>miS</th>\n",
              "      <th>miT</th>\n",
              "      <th>pmH</th>\n",
              "      <th>pmS</th>\n",
              "      <th>pmT</th>\n",
              "      <th>ya</th>\n",
              "      <th>yb</th>\n",
              "      <th>yc</th>\n",
              "      <th>yd</th>\n",
              "    </tr>\n",
              "  </thead>\n",
              "  <tbody>\n",
              "    <tr>\n",
              "      <th>0</th>\n",
              "      <td>1974</td>\n",
              "      <td>R</td>\n",
              "      <td>0.571</td>\n",
              "      <td>D</td>\n",
              "      <td>0.576</td>\n",
              "      <td>D</td>\n",
              "      <td>2</td>\n",
              "      <td>D</td>\n",
              "      <td>1</td>\n",
              "      <td>1068</td>\n",
              "      <td>813</td>\n",
              "      <td>1881</td>\n",
              "      <td>168</td>\n",
              "      <td>236</td>\n",
              "      <td>404</td>\n",
              "      <td>838</td>\n",
              "      <td>807</td>\n",
              "      <td>1645</td>\n",
              "      <td>1793</td>\n",
              "      <td>6901</td>\n",
              "      <td>8694</td>\n",
              "      <td>0.467373</td>\n",
              "      <td>0.116940</td>\n",
              "      <td>0.189211</td>\n",
              "      <td>41.333333</td>\n",
              "      <td>0.0</td>\n",
              "      <td>NaN</td>\n",
              "      <td>NaN</td>\n",
              "    </tr>\n",
              "    <tr>\n",
              "      <th>1</th>\n",
              "      <td>1975</td>\n",
              "      <td>R</td>\n",
              "      <td>0.660</td>\n",
              "      <td>D</td>\n",
              "      <td>0.620</td>\n",
              "      <td>D</td>\n",
              "      <td>2</td>\n",
              "      <td>D</td>\n",
              "      <td>1</td>\n",
              "      <td>1177</td>\n",
              "      <td>942</td>\n",
              "      <td>2119</td>\n",
              "      <td>67</td>\n",
              "      <td>138</td>\n",
              "      <td>205</td>\n",
              "      <td>682</td>\n",
              "      <td>754</td>\n",
              "      <td>1436</td>\n",
              "      <td>3424</td>\n",
              "      <td>13591</td>\n",
              "      <td>17015</td>\n",
              "      <td>0.199182</td>\n",
              "      <td>0.055478</td>\n",
              "      <td>0.084396</td>\n",
              "      <td>51.500000</td>\n",
              "      <td>19.0</td>\n",
              "      <td>NaN</td>\n",
              "      <td>NaN</td>\n",
              "    </tr>\n",
              "    <tr>\n",
              "      <th>2</th>\n",
              "      <td>1976</td>\n",
              "      <td>R</td>\n",
              "      <td>0.660</td>\n",
              "      <td>D</td>\n",
              "      <td>0.620</td>\n",
              "      <td>D</td>\n",
              "      <td>2</td>\n",
              "      <td>D</td>\n",
              "      <td>1</td>\n",
              "      <td>1033</td>\n",
              "      <td>846</td>\n",
              "      <td>1879</td>\n",
              "      <td>141</td>\n",
              "      <td>242</td>\n",
              "      <td>383</td>\n",
              "      <td>870</td>\n",
              "      <td>870</td>\n",
              "      <td>1740</td>\n",
              "      <td>1489</td>\n",
              "      <td>5780</td>\n",
              "      <td>7269</td>\n",
              "      <td>0.584285</td>\n",
              "      <td>0.150519</td>\n",
              "      <td>0.239373</td>\n",
              "      <td>58.000000</td>\n",
              "      <td>0.0</td>\n",
              "      <td>NaN</td>\n",
              "      <td>NaN</td>\n",
              "    </tr>\n",
              "    <tr>\n",
              "      <th>3</th>\n",
              "      <td>1977</td>\n",
              "      <td>D</td>\n",
              "      <td>0.661</td>\n",
              "      <td>D</td>\n",
              "      <td>0.580</td>\n",
              "      <td>D</td>\n",
              "      <td>3</td>\n",
              "      <td>D</td>\n",
              "      <td>1</td>\n",
              "      <td>1144</td>\n",
              "      <td>882</td>\n",
              "      <td>2026</td>\n",
              "      <td>70</td>\n",
              "      <td>153</td>\n",
              "      <td>223</td>\n",
              "      <td>705</td>\n",
              "      <td>734</td>\n",
              "      <td>1439</td>\n",
              "      <td>2896</td>\n",
              "      <td>12490</td>\n",
              "      <td>15386</td>\n",
              "      <td>0.243439</td>\n",
              "      <td>0.058767</td>\n",
              "      <td>0.093527</td>\n",
              "      <td>42.400000</td>\n",
              "      <td>18.0</td>\n",
              "      <td>NaN</td>\n",
              "      <td>NaN</td>\n",
              "    </tr>\n",
              "    <tr>\n",
              "      <th>4</th>\n",
              "      <td>1978</td>\n",
              "      <td>D</td>\n",
              "      <td>0.661</td>\n",
              "      <td>D</td>\n",
              "      <td>0.580</td>\n",
              "      <td>D</td>\n",
              "      <td>3</td>\n",
              "      <td>D</td>\n",
              "      <td>1</td>\n",
              "      <td>1366</td>\n",
              "      <td>1016</td>\n",
              "      <td>2382</td>\n",
              "      <td>159</td>\n",
              "      <td>252</td>\n",
              "      <td>411</td>\n",
              "      <td>891</td>\n",
              "      <td>881</td>\n",
              "      <td>1772</td>\n",
              "      <td>1617</td>\n",
              "      <td>5310</td>\n",
              "      <td>6927</td>\n",
              "      <td>0.551020</td>\n",
              "      <td>0.165913</td>\n",
              "      <td>0.255811</td>\n",
              "      <td>49.000000</td>\n",
              "      <td>0.0</td>\n",
              "      <td>NaN</td>\n",
              "      <td>NaN</td>\n",
              "    </tr>\n",
              "  </tbody>\n",
              "</table>\n",
              "</div>"
            ],
            "text/plain": [
              "   Year Executive  Majority_H Party_H  ...         ya    yb  yc  yd\n",
              "0  1974         R       0.571       D  ...  41.333333   0.0 NaN NaN\n",
              "1  1975         R       0.660       D  ...  51.500000  19.0 NaN NaN\n",
              "2  1976         R       0.660       D  ...  58.000000   0.0 NaN NaN\n",
              "3  1977         D       0.661       D  ...  42.400000  18.0 NaN NaN\n",
              "4  1978         D       0.661       D  ...  49.000000   0.0 NaN NaN\n",
              "\n",
              "[5 rows x 28 columns]"
            ]
          },
          "metadata": {
            "tags": []
          },
          "execution_count": 27
        }
      ]
    },
    {
      "cell_type": "code",
      "metadata": {
        "id": "99cp3830jMi4",
        "colab_type": "code",
        "colab": {}
      },
      "source": [
        "#first, a crosstab\n",
        "# pmT_bins = pd.cut(party_df.pmT,bins = 5)\n",
        "# pd.crosstab(party_df.Majority_Quality,party_df.pmT, normalize = 'columns' )"
      ],
      "execution_count": 0,
      "outputs": []
    },
    {
      "cell_type": "markdown",
      "metadata": {
        "id": "WsdZLNnbK62X",
        "colab_type": "text"
      },
      "source": [
        "## (extra) Consideration of Executive control "
      ]
    },
    {
      "cell_type": "code",
      "metadata": {
        "id": "uC2RS9dWSO2T",
        "colab_type": "code",
        "colab": {}
      },
      "source": [
        "#using party_df\n",
        "\n",
        "plt.style.use('fivethirtyeight') \n",
        "fig, ax = plt.subplots(figsize=(7,5))\n",
        "ax.scatter(party_df['Majority_Quality'],party_df['pmT'], color = 'green')\n",
        "\n",
        "#majority has little/no impact on proportion of measures passed; counter to expectations "
      ],
      "execution_count": 0,
      "outputs": []
    },
    {
      "cell_type": "code",
      "metadata": {
        "id": "sFhBY_9rmWLw",
        "colab_type": "code",
        "colab": {}
      },
      "source": [
        "plt.style.use('fivethirtyeight') \n",
        "fig, ax = plt.subplots(figsize=(7,5))\n",
        "ax.scatter(party_df['Majority_Quality'],party_df['bT'], color = 'green') \n",
        "#generaly same results for num. bills passed in to law (public)\n",
        "# At this point, I'm just trying to nail down any potential rapport b/w partisan control and the passage of legislation"
      ],
      "execution_count": 0,
      "outputs": []
    },
    {
      "cell_type": "code",
      "metadata": {
        "id": "6QP5-HAFlN6F",
        "colab_type": "code",
        "colab": {}
      },
      "source": [
        "party_df.tail() #review"
      ],
      "execution_count": 0,
      "outputs": []
    },
    {
      "cell_type": "markdown",
      "metadata": {
        "id": "gD_OV0mDKWBV",
        "colab_type": "text"
      },
      "source": [
        "## Plots 4 and 5. prop. Congressional majority vs. bH&S/mH&S (2)\n",
        "showing non-correlation b/w proportional party majority in Congress and passage of legislation, with distinction between the two houses"
      ]
    },
    {
      "cell_type": "code",
      "metadata": {
        "id": "JIV0VoWfeL2Z",
        "colab_type": "code",
        "colab": {}
      },
      "source": [
        "#party_df.head()"
      ],
      "execution_count": 0,
      "outputs": []
    },
    {
      "cell_type": "code",
      "metadata": {
        "id": "I0kEFsxAmEGE",
        "colab_type": "code",
        "outputId": "80edd138-4b8a-49f9-dfb8-279c6a06cd70",
        "colab": {
          "base_uri": "https://localhost:8080/",
          "height": 389
        }
      },
      "source": [
        "#shifting to look at the proportional measures of partisan control \n",
        "\n",
        "#Plot Styling\n",
        "plt.style.use('ggplot')\n",
        "fig, ax = plt.subplots(figsize=(7,5))\n",
        "\n",
        "#Plot Data\n",
        "ax.scatter(party_df['Majority_H'],party_df['bH'], s=50, label = 'House', alpha = .7, c = 'purple') \n",
        "ax.scatter(party_df['Majority_S'],party_df['bS'], s=50, label = 'Senate', alpha = .7, c = 'orange') \n",
        "ax.legend(loc = 'upper right')\n",
        "\n",
        "#Plot Labels\n",
        "ax.set_xlabel(r'Proportional Majority', fontsize=13)\n",
        "ax.set_ylabel(r'Bills Passed into Law', fontsize=13)\n",
        "ax.set_title('Majorities Fail To Pass More Bills', fontsize = 20, fontweight = 'bold', alpha = .8, loc = 'left', y = 1.05)\n",
        "ax.text(x=.4905, y=300, s='Bills passed and majorities held by either chamber of Congress', fontsize=12, alpha = .7)\n",
        "\n",
        "plt.rcParams[\"legend.edgecolor\"]= 'k'"
      ],
      "execution_count": 0,
      "outputs": [
        {
          "output_type": "display_data",
          "data": {
            "image/png": "[encoded data removed]",
            "text/plain": [
              "<Figure size 504x360 with 1 Axes>"
            ]
          },
          "metadata": {
            "tags": []
          }
        }
      ]
    },
    {
      "cell_type": "code",
      "metadata": {
        "id": "VioyQEZkn9k9",
        "colab_type": "code",
        "outputId": "9450ffe3-8cbe-46a4-84ce-4bd106b34d72",
        "colab": {
          "base_uri": "https://localhost:8080/",
          "height": 389
        }
      },
      "source": [
        "#Plot Styling\n",
        "plt.style.use('ggplot')\n",
        "fig, ax = plt.subplots(figsize=(7,5))\n",
        "\n",
        "#Plot Data\n",
        "ax.scatter(party_df['Majority_H'],party_df['mH'], s=50, label = 'House', alpha = .7, c = 'purple') \n",
        "ax.scatter(party_df['Majority_S'],party_df['mS'], s=50, label = 'Senate', alpha = .7, c = 'orange') \n",
        "ax.legend(loc = 'best')\n",
        "\n",
        "#Plot Labels\n",
        "ax.set_xlabel(r'Proportional Majority', fontsize=13)\n",
        "ax.set_ylabel(r'Measures Passed', fontsize=13)\n",
        "ax.set_title('Majorities Pass More Measures', fontsize = 20, fontweight = 'bold', alpha = .8, loc = 'left', y = 1.05)\n",
        "ax.text(x=.4905, y=1185, s='Measures passed and majorities held by either chamber of Congress', fontsize=12, alpha = .7)\n",
        "\n",
        "plt.rcParams[\"legend.edgecolor\"]= 'k'\n",
        "\n",
        "#these findings are statistically significant in case of measures passed in both House and Senate, when using X2 test of 5 bins "
      ],
      "execution_count": 0,
      "outputs": [
        {
          "output_type": "display_data",
          "data": {
            "image/png": "[encoded data removed]",
            "text/plain": [
              "<Figure size 504x360 with 1 Axes>"
            ]
          },
          "metadata": {
            "tags": []
          }
        }
      ]
    },
    {
      "cell_type": "markdown",
      "metadata": {
        "id": "jOqGjnxLLqJK",
        "colab_type": "text"
      },
      "source": [
        "## Plots 6 & 7 (optional). unified vs. ununified Session and bT/mT (2) , see here for even/odd df\n",
        "À faire: detail statistical findings when presenting those for plots 4 and 5"
      ]
    },
    {
      "cell_type": "code",
      "metadata": {
        "id": "yzu5TvIzoY6k",
        "colab_type": "code",
        "outputId": "a558d59a-97ee-4aaa-85d5-26a5440bf70b",
        "colab": {
          "base_uri": "https://localhost:8080/",
          "height": 389
        }
      },
      "source": [
        "#Does having control of the Congress change anything?\n",
        "\n",
        "#Plot Styling\n",
        "plt.style.use('ggplot')\n",
        "fig, ax = plt.subplots(figsize=(7,5))\n",
        "\n",
        "#Plot Data\n",
        "ax.scatter(party_df['unified_Congress'],party_df['bT'], s = 25, alpha = .8, c = 'blue')\n",
        "#ax.legend(loc = 9)\n",
        "\n",
        "#Plot Labels\n",
        "ax.set_xlabel(r'x label', fontsize=13)\n",
        "ax.set_ylabel(r'y label', fontsize=13)\n",
        "ax.set_title('Title', fontsize = 20, fontweight = 'bold', alpha = .8, loc = 'left', y = 1.05)\n",
        "ax.text(x=-.055, y=450, s='Subheader', fontsize=12, alpha = .7)\n",
        "\n",
        "plt.rcParams[\"legend.edgecolor\"]= 'k'\n",
        "\n",
        "# for total measures passed, it seems to; the total no. bills seems less impacted by this factor, perhaps because of the graph's scaling \n"
      ],
      "execution_count": 0,
      "outputs": [
        {
          "output_type": "display_data",
          "data": {
            "image/png": "[encoded data removed]",
            "text/plain": [
              "<Figure size 504x360 with 1 Axes>"
            ]
          },
          "metadata": {
            "tags": []
          }
        }
      ]
    },
    {
      "cell_type": "code",
      "metadata": {
        "id": "mrHwrLOUSrzL",
        "colab_type": "code",
        "outputId": "9770eba0-4905-4059-d3d7-de10ae2d4f3a",
        "colab": {
          "base_uri": "https://localhost:8080/",
          "height": 389
        }
      },
      "source": [
        "#Plot Styling\n",
        "plt.style.use('ggplot')\n",
        "fig, ax = plt.subplots(figsize=(7,5))\n",
        "\n",
        "#Plot Data\n",
        "ax.scatter(party_df['unified_Congress'],party_df['mT'], s = 25, alpha = .8, c = 'purple')\n",
        "#ax.legend(loc = 9)\n",
        "\n",
        "#Plot Labels\n",
        "ax.set_xlabel(r'x label', fontsize=13)\n",
        "ax.set_ylabel(r'y label', fontsize=13)\n",
        "ax.set_title('Title', fontsize = 20, fontweight = 'bold', alpha = .8, loc = 'left', y = 1.05)\n",
        "ax.text(x=-.055, y=1840, s='Subheader', fontsize=12, alpha = .7)\n",
        "\n",
        "plt.rcParams[\"legend.edgecolor\"]= 'k'"
      ],
      "execution_count": 0,
      "outputs": [
        {
          "output_type": "display_data",
          "data": {
            "image/png": "[encoded data removed]",
            "text/plain": [
              "<Figure size 504x360 with 1 Axes>"
            ]
          },
          "metadata": {
            "tags": []
          }
        }
      ]
    },
    {
      "cell_type": "code",
      "metadata": {
        "id": "uHn0vUELpXU7",
        "colab_type": "code",
        "colab": {}
      },
      "source": [
        "even_df = party_df[party_df['Year'] % 2 == 0].sort_values(by = 'Year')\n",
        "odd_df = party_df[party_df['Year']% 2 !=0].sort_values(by = 'Year')"
      ],
      "execution_count": 0,
      "outputs": []
    },
    {
      "cell_type": "markdown",
      "metadata": {
        "id": "neRe-DgahHnN",
        "colab_type": "text"
      },
      "source": [
        "## Stats tests (2)\n",
        "Congressional unification has little impact on passage of legislation, noticably more affect on odd than even years\n"
      ]
    },
    {
      "cell_type": "code",
      "metadata": {
        "id": "wmRYIZuvrgD6",
        "colab_type": "code",
        "outputId": "d481328d-052d-450e-f31a-a9f8bddba1dd",
        "colab": {
          "base_uri": "https://localhost:8080/",
          "height": 34
        }
      },
      "source": [
        "from scipy import stats\n",
        "from scipy.stats import ttest_ind, ttest_1samp, chisquare, chi2_contingency\n",
        "# plt.style.use('fivethirtyeight') \n",
        "# fig, ax = plt.subplots(figsize=(7,5))\n",
        "\n",
        "even_unified = even_df[even_df['unified_Congress']  == 1]\n",
        "even_not_unified = even_df[even_df['unified_Congress']  == 0]\n",
        "odd_unified = odd_df[odd_df['unified_Congress'] == 1]\n",
        "odd_not_unified = odd_df[odd_df['unified_Congress'] == 0]\n",
        "\n",
        "ttest_ind(even_unified['miT'], even_not_unified['miT']) # 2 sample TTests: controlling for election-cycle and testing \n",
        "# Congressional unification under 1-party: mT(even p-value = 0.213, odd p-value = .039), bT(even p-value = 0.777, odd = .425), \n",
        "# pmT(even p-value = .753, odd = .081), miT(even = .553, odd=.557)\n",
        "#Findings of ttests: Congressional unification has a greater impact on the Congressional agenda on odd years than for even years, \n",
        "# with the exception of the miT measure - the results are practically the same\n"
      ],
      "execution_count": 0,
      "outputs": [
        {
          "output_type": "execute_result",
          "data": {
            "text/plain": [
              "Ttest_indResult(statistic=0.6036998941242244, pvalue=0.5525091745398275)"
            ]
          },
          "metadata": {
            "tags": []
          },
          "execution_count": 115
        }
      ]
    },
    {
      "cell_type": "code",
      "metadata": {
        "id": "OTAIfSrs6P4q",
        "colab_type": "code",
        "outputId": "373ea8c3-9537-4c2c-9cf9-b63d1f484215",
        "colab": {
          "base_uri": "https://localhost:8080/",
          "height": 34
        }
      },
      "source": [
        "# yb_bins =pd.cut(df['yb'], bins =6)\n",
        "# print(pd.crosstab(party_df['unified_Congress'],yb_bins, normalize = 'index')) #not all that interesting\n",
        "\n",
        "ttest_ind(even_unified['yb'], even_not_unified['yb'], nan_policy = 'omit') # Controlling for election-cycle and testing \n",
        "#Congressional unification under 1-party: ya(even pvalue = .64, odd = .597), yb(even pvalue = .512, odd = .383)"
      ],
      "execution_count": 0,
      "outputs": [
        {
          "output_type": "execute_result",
          "data": {
            "text/plain": [
              "Ttest_indResult(statistic=-0.6664492941900287, pvalue=0.5123799277477563)"
            ]
          },
          "metadata": {
            "tags": []
          },
          "execution_count": 116
        }
      ]
    },
    {
      "cell_type": "code",
      "metadata": {
        "id": "WORsY10fryHc",
        "colab_type": "code",
        "colab": {}
      },
      "source": [
        "#party_df.tail()\n",
        "#What other relations might I examine? How about differences between the parties themselves, their legislative agendas"
      ],
      "execution_count": 0,
      "outputs": []
    },
    {
      "cell_type": "markdown",
      "metadata": {
        "id": "4fOqB0hFiSeZ",
        "colab_type": "text"
      },
      "source": [
        "## (extra) analysis of differences between parties"
      ]
    },
    {
      "cell_type": "code",
      "metadata": {
        "id": "dyHyyUFLszjT",
        "colab_type": "code",
        "colab": {}
      },
      "source": [
        "# plt.style.use('fivethirtyeight') \n",
        "# fig, ax = plt.subplots(figsize=(7,5))\n",
        "\n",
        "# ax.scatter(even_df['Party_Majority'],even_df['bT'], color = 'purple') \n",
        "# ax.scatter(odd_df['Party_Majority'],odd_df['bT'], color = 'orange') \n",
        "\n",
        "\n",
        "#on df for dem and one for rep\n",
        "rep_majority_even = even_df[even_df['Party_Majority'] == 'R']\n",
        "dem_majority_even = even_df[even_df['Party_Majority'] == 'D']\n",
        "rep_majority_odd = odd_df[odd_df['Party_Majority'] == 'R']\n",
        "dem_majority_odd = odd_df[odd_df['Party_Majority'] == 'D']\n",
        "\n",
        "ttest_ind(rep_majority_even['yb'], dem_majority_even['yb'], nan_policy = 'omit') #differences in distributions of majorities of two parties\n",
        "# for: ya(even pvalue = .149, odd = .222), yb(even pvalue = .663, odd = .831) #again, somewhat noticeable variation between odd and even years;\n",
        "# the takeaway though is that there is no significant statistical distinction between the public opinion garnered by a majority Dem and a majority Rep\n",
        "# Congress/Executive\n",
        "\n",
        "#Should be using chi-square... when comparing Republican vs. Democratic distributions. "
      ],
      "execution_count": 0,
      "outputs": []
    },
    {
      "cell_type": "code",
      "metadata": {
        "id": "49_4-OVltubH",
        "colab_type": "code",
        "colab": {}
      },
      "source": [
        "plt.style.use('fivethirtyeight') \n",
        "fig, ax = plt.subplots(figsize=(7,5))\n",
        "ax.scatter(even_df['Party_Majority'],even_df['mT'], color = 'purple') \n",
        "ax.scatter(odd_df['Party_Majority'],odd_df['mT'], color = 'orange') \n",
        "\n",
        "#Here, there can be seen a difference between the parties in terms of the consistency of the no. of measures passed;\n",
        "# the Democratic majority appears less consistent than the Republican majority\n",
        "# Consider controlling for the majority quality - 2 vs. 3"
      ],
      "execution_count": 0,
      "outputs": []
    },
    {
      "cell_type": "code",
      "metadata": {
        "id": "nyWjse6VuI2I",
        "colab_type": "code",
        "colab": {}
      },
      "source": [
        "# plt.style.use('fivethirtyeight') \n",
        "# fig, ax = plt.subplots(figsize=(7,5))\n",
        "# ax.scatter(even_df['Party_Majority'],even_df['tT'], color = 'purple') \n",
        "# ax.scatter(odd_df['Party_Majority'],odd_df['tT'], color = 'orange') \n",
        "#not interesting\n",
        "plt.style.use('fivethirtyeight') \n",
        "fig, ax = plt.subplots(figsize=(7,5))\n",
        "ax.scatter(even_df['Party_Majority'],even_df['ya'], color = 'purple') \n",
        "ax.scatter(odd_df['Party_Majority'],odd_df['ya'], color = 'orange') \n"
      ],
      "execution_count": 0,
      "outputs": []
    },
    {
      "cell_type": "code",
      "metadata": {
        "id": "wSelG_4guPO5",
        "colab_type": "code",
        "colab": {}
      },
      "source": [
        "three_majority_even = even_df[even_df['Majority_Quality'] == 3]\n",
        "two_majority_even = even_df[even_df['Majority_Quality'] == 2]\n",
        "two_majority_even.head()\n",
        "three_majority_even.tail()\n",
        "\n",
        "three_majority_odd = odd_df[odd_df['Majority_Quality'] == 3]\n",
        "two_majority_odd = odd_df[odd_df['Majority_Quality'] == 2]\n",
        "two_majority_odd.head()\n",
        "three_majority_odd.tail()"
      ],
      "execution_count": 0,
      "outputs": []
    },
    {
      "cell_type": "code",
      "metadata": {
        "id": "z9GjFyaPSlOI",
        "colab_type": "code",
        "colab": {}
      },
      "source": [
        "# plt.style.use('fivethirtyeight') \n",
        "# fig, ax = plt.subplots(figsize=(7,5))\n",
        "#ax.scatter(two_majority_even['Party_Majority'],two_majority_even['pmT'], color = 'purple') \n",
        "#ax.scatter(three_majority_even['Party_Majority'],three_majority_even['pmT'], color = 'orange') \n",
        "\n",
        "# difficult to draw meaningful conclusion here, for influence of party on the passage of legislation -- few data points\n",
        "\n",
        "#ax.scatter(two_majority_odd['Party_Majority'],two_majority_odd['pmT'], color = 'purple') \n",
        "#ax.scatter(three_majority_odd['Party_Majority'],three_majority_odd['pmT'], color = 'orange') \n",
        "\n",
        "#see above comment, little difference \n"
      ],
      "execution_count": 0,
      "outputs": []
    },
    {
      "cell_type": "markdown",
      "metadata": {
        "id": "5GBbr932iqws",
        "colab_type": "text"
      },
      "source": [
        "## Stats tests (3)\n",
        "focus on pub opinion and its disjointedness with party majority and the macro-level passage of legislation."
      ]
    },
    {
      "cell_type": "code",
      "metadata": {
        "id": "4_UYfQ67Nn4t",
        "colab_type": "code",
        "colab": {}
      },
      "source": [
        "party_df.head()"
      ],
      "execution_count": 0,
      "outputs": []
    },
    {
      "cell_type": "code",
      "metadata": {
        "id": "nSgfcBN2Um0K",
        "colab_type": "code",
        "outputId": "84a78482-460f-4d7b-8f99-368d5caa1a85",
        "colab": {
          "base_uri": "https://localhost:8080/",
          "height": 252
        }
      },
      "source": [
        "#unified congress \n",
        "\n",
        "party_dfs = party_df.sort_values(by = 'Year')\n",
        "\n",
        "#opinion bins\n",
        "yaBins = pd.cut(party_dfs['ya'], bins = 5) #five bins provides an approx. 10 pt. range per bin\n",
        "ybBins = pd.cut(party_dfs['yb'], bins = 6) #six bins provides for a 9.5 pt. range per bin\n",
        "# yaqBins = pd.qcut(party_dfs['ya'], 5)\n",
        "# ybqBins = pd.qcut(party_dfs['yb'], 5)\n",
        "\n",
        "#legislative agenda bins\n",
        "bTBins = pd.cut(party_dfs['bT'], bins = 5)\n",
        "miTBins = pd.cut(party_dfs['miT'], bins = 5)\n",
        "mTBins = pd.cut(party_dfs['mT'], bins = 5)\n",
        "pmTBins = pd.cut(party_dfs['pmT'], bins = 5)\n",
        "tTBins = pd.cut(party_dfs['tT'], bins = 5)\n",
        "\n",
        "majorityHBins= pd.cut(party_dfs['Majority_H'], bins = 5)\n",
        "majoritySBins= pd.cut(party_dfs['Majority_S'], bins = 5)\n",
        "bHBins = pd.cut(party_dfs['bH'],bins = 5)\n",
        "bSBins = pd.cut(party_dfs['bS'],bins = 5)\n",
        "mHBins = pd.cut(party_dfs['mH'],bins = 5)\n",
        "mSBins = pd.cut(party_dfs['mS'],bins = 5)\n",
        "\n",
        "#CrossTab and X2 Test\n",
        "ct1 = pd.crosstab(party_dfs['unified_Congress'], ybBins)#, normalize= 'index')\n",
        "ct2 = pd.crosstab(majoritySBins, mSBins)#, normalize= 'index' )\n",
        "\n",
        "chi_squared, p_value, dof, expected = stats.chi2_contingency(ct2)\n",
        "print(chi_squared,p_value)\n",
        "ct2\n",
        "\n",
        "#results(3): Contingency table shows uneven distribution of unified and ununified years; there were many more years for which Congress was unified.\n",
        " # When not normalizing across rows.. for test of unified_Congress on y\n",
        " # On the statisitcs: null- should not be rejected in case of ya (X2 = 7.274, p = 0.122); \n",
        " # null- should not be rejected in the case of yb (X2 = 7.117, p = 0.212)\n",
        " \n",
        " # When not normalizing across rows.. for test of legislative agneda on y\n",
        " # On the statistics: null- should not be rejected for each of the following relationships: ya-bT(X2 = 13.734, p = 0.618), \n",
        " # ya-miT(X2 = 8.263, p = 0.764), ya-mT(X2=16.168, p = 0.441), ya-pmT(X2 = 12.262, p = 0.726), yb-miT(X2 = 18.685, p = 0.228), \n",
        " # yb-pmT(X2 = 24.321, p=0.229), \n",
        " #  null should be rejected for each of the following relationships: ya-tT(X2 = 29.209, p = 0.023), yb-bT(X2 = 29.137, p = 0.085)\n",
        " # yb-mT(X2 = 29.593, p = 0.767), yb-tT(X2 = 28.215, p = 0.104)\n",
        "\n",
        "#results(2): H0: bH(X2 = 19.994 , p = 0.220), bS(X2 = 16.238, p = 0.767); \n",
        " #           H1: mH(X2 = 23.957, p = 0.090), mS(X2 = 31.563, p = 0.011)"
      ],
      "execution_count": 0,
      "outputs": [
        {
          "output_type": "stream",
          "text": [
            "31.562897628687104 0.011393326376271343\n"
          ],
          "name": "stdout"
        },
        {
          "output_type": "execute_result",
          "data": {
            "text/html": [
              "<div>\n",
              "<style scoped>\n",
              "    .dataframe tbody tr th:only-of-type {\n",
              "        vertical-align: middle;\n",
              "    }\n",
              "\n",
              "    .dataframe tbody tr th {\n",
              "        vertical-align: top;\n",
              "    }\n",
              "\n",
              "    .dataframe thead th {\n",
              "        text-align: right;\n",
              "    }\n",
              "</style>\n",
              "<table border=\"1\" class=\"dataframe\">\n",
              "  <thead>\n",
              "    <tr style=\"text-align: right;\">\n",
              "      <th>mS</th>\n",
              "      <th>(365.239, 518.2]</th>\n",
              "      <th>(518.2, 670.4]</th>\n",
              "      <th>(670.4, 822.6]</th>\n",
              "      <th>(822.6, 974.8]</th>\n",
              "      <th>(974.8, 1127.0]</th>\n",
              "    </tr>\n",
              "    <tr>\n",
              "      <th>Majority_S</th>\n",
              "      <th></th>\n",
              "      <th></th>\n",
              "      <th></th>\n",
              "      <th></th>\n",
              "      <th></th>\n",
              "    </tr>\n",
              "  </thead>\n",
              "  <tbody>\n",
              "    <tr>\n",
              "      <th>(0.5, 0.524]</th>\n",
              "      <td>0</td>\n",
              "      <td>4</td>\n",
              "      <td>4</td>\n",
              "      <td>0</td>\n",
              "      <td>2</td>\n",
              "    </tr>\n",
              "    <tr>\n",
              "      <th>(0.524, 0.548]</th>\n",
              "      <td>4</td>\n",
              "      <td>8</td>\n",
              "      <td>0</td>\n",
              "      <td>2</td>\n",
              "      <td>0</td>\n",
              "    </tr>\n",
              "    <tr>\n",
              "      <th>(0.548, 0.572]</th>\n",
              "      <td>1</td>\n",
              "      <td>6</td>\n",
              "      <td>5</td>\n",
              "      <td>0</td>\n",
              "      <td>0</td>\n",
              "    </tr>\n",
              "    <tr>\n",
              "      <th>(0.572, 0.596]</th>\n",
              "      <td>0</td>\n",
              "      <td>1</td>\n",
              "      <td>3</td>\n",
              "      <td>3</td>\n",
              "      <td>0</td>\n",
              "    </tr>\n",
              "    <tr>\n",
              "      <th>(0.596, 0.62]</th>\n",
              "      <td>0</td>\n",
              "      <td>0</td>\n",
              "      <td>1</td>\n",
              "      <td>1</td>\n",
              "      <td>0</td>\n",
              "    </tr>\n",
              "  </tbody>\n",
              "</table>\n",
              "</div>"
            ],
            "text/plain": [
              "mS              (365.239, 518.2]  ...  (974.8, 1127.0]\n",
              "Majority_S                        ...                 \n",
              "(0.5, 0.524]                   0  ...                2\n",
              "(0.524, 0.548]                 4  ...                0\n",
              "(0.548, 0.572]                 1  ...                0\n",
              "(0.572, 0.596]                 0  ...                0\n",
              "(0.596, 0.62]                  0  ...                0\n",
              "\n",
              "[5 rows x 5 columns]"
            ]
          },
          "metadata": {
            "tags": []
          },
          "execution_count": 127
        }
      ]
    },
    {
      "cell_type": "markdown",
      "metadata": {
        "id": "lufz47A-gw8V",
        "colab_type": "text"
      },
      "source": [
        "## (extra)"
      ]
    },
    {
      "cell_type": "code",
      "metadata": {
        "id": "AkwcyGlhXtpp",
        "colab_type": "code",
        "colab": {}
      },
      "source": [
        "#Extra: #Insert Stacked Bar: highlighting lopsided distribution of survey results for unified vs not Congressional Sessions\n",
        "\n",
        "# ctA = pd.crosstab(party_df['unified_Congress'],yaBins)#, normalize= 'columns')\n",
        "# ctB = pd.crosstab(party_df['unified_Congress'],ybBins)#, normalize= 'columns')\n"
      ],
      "execution_count": 0,
      "outputs": []
    },
    {
      "cell_type": "code",
      "metadata": {
        "id": "M9MPeLQ1Z49H",
        "colab_type": "code",
        "colab": {}
      },
      "source": [
        "# Does a unified congress make a difference in z and/or y dimensions, while controlling for the Congressional election cycle\n",
        "#  Previously addressed (refer to above code), no for the z dimension, and no for the y dimension. Note: there are few years  \n",
        "#  for which Congress was not unified under one party. \n",
        "#  If this not a major factor of the public attitude, perhaps presidential elections are? -> make a DF containing only data for \n",
        "#  years of presidential elections: 1972, 1976, 1980, 1984, 1988, 1992, 1996, 2000, 2004, 2008, 2012, 2016 \n",
        "# (filter the original df)\n",
        "\n",
        "#actually, this question is tackled above"
      ],
      "execution_count": 0,
      "outputs": []
    },
    {
      "cell_type": "code",
      "metadata": {
        "id": "bl4tP3v7inAP",
        "colab_type": "code",
        "colab": {}
      },
      "source": [
        "plt.style.use('fivethirtyeight')\n",
        "fig, ax = plt.subplots(figsize=(7,5))\n",
        "# ax.scatter(df2['Year'],df2['pmT'], color = 'b')\n",
        "# ax.scatter(df3['Year'],df3['pmT'], color = 'r')\n",
        "ax.scatter(full_years['Year'], full_years['ya'], color = 'r')\n",
        "# ax.scatter(even_df['Year'], even_df['ya'], color ='k')\n",
        "# ax.scatter(df['Year'],df['ya'], color = 'cyan')"
      ],
      "execution_count": 0,
      "outputs": []
    },
    {
      "cell_type": "code",
      "metadata": {
        "id": "r8o4WVK_i_3b",
        "colab_type": "code",
        "colab": {}
      },
      "source": [
        "plt.style.use('fivethirtyeight')\n",
        "fig, ax = plt.subplots(figsize=(7,5))\n",
        "\n",
        "#ax.scatter(full_years['Year'], full_years['ya'], color = 'r')\n",
        "ax.scatter(odd_df['Year'], odd_df['yb'], color ='k')\n",
        "ax.scatter(even_df['Year'], even_df['yb'], color = 'green')\n",
        "# ax.scatter(df['Year'],df['ya'], color = 'cyan')\n",
        "\n",
        "# so, even on presidential election years, where one is expected to be highly politically involved, the public opinion of Congress\n",
        "# is highly variable, seemingly detached from the election cycle\n",
        "\n",
        "# (based on ya results) Interestingly, a trend (towards higher disapproval rates) becomes visible when focusing only on the odd-numbered years. \n",
        "# So, one might draw from these findings that election years (presidential and Congressional) might correlate with a rise in \n",
        "# sentiments towards Congress that are more extreme than those recorded during off-years - perhaps reflective of partisan nature of the system.\n",
        "\n",
        "# From yb datapoints, there is a clearer trend of a rising negative opinion of Congress, and which appears less dependent on the election cycle \n",
        "# - an outcome that is perhaps reflective of the timing of the polling and framing of the question posed. "
      ],
      "execution_count": 0,
      "outputs": []
    },
    {
      "cell_type": "code",
      "metadata": {
        "id": "3M4N8MKZeYzN",
        "colab_type": "code",
        "colab": {}
      },
      "source": [
        "#Now, what about the proportional strength of majorities? Does this variable impact the passage of legislation (in either S or H)?\n",
        "# And what of the time spent in session, is this affected by the election cycle? (use the original party_df)\n",
        "\n",
        "plt.style.use('fivethirtyeight')\n",
        "fig, ax = plt.subplots(figsize=(7,5))\n",
        "\n",
        "#ax.scatter(party_df['Majority_H'], party_df['pmH'], color ='k')\n",
        "#ax.scatter(party_df['Majority_S'], party_df['pmS'], color ='g')\n",
        "\n",
        "ax.scatter(even_df['Majority_H'], even_df['bT'], color ='k')\n",
        "ax.scatter(even_df['Majority_S'], even_df['bT'], color ='g')\n",
        "\n",
        "# ax.scatter(odd_df['Majority_H'], odd_df['yb'], color ='k')\n",
        "# ax.scatter(odd_df['Majority_S'], odd_df['yb'], color ='g')\n",
        "\n",
        "#Nada of interest --> now examine crosstabs"
      ],
      "execution_count": 0,
      "outputs": []
    },
    {
      "cell_type": "code",
      "metadata": {
        "id": "oNJ54urRvMie",
        "colab_type": "code",
        "colab": {}
      },
      "source": [
        "years_bins = pd.cut(party_df['Year'], bins =10) \n",
        "yb_bins =pd.cut(party_df['yb'], bins =5)\n",
        "pd.crosstab(years_bins,yb_bins, normalize = 'index')"
      ],
      "execution_count": 0,
      "outputs": []
    },
    {
      "cell_type": "code",
      "metadata": {
        "id": "wyfyhK7Z0DnR",
        "colab_type": "code",
        "colab": {}
      },
      "source": [
        "years_bins = pd.cut(party_df['Year'], bins =10) #consider speciying bins to coincide with pres. terms\n",
        "ya_bins =pd.cut(party_df['ya'], bins =5)\n",
        "pd.crosstab(years_bins,ya_bins, normalize = 'columns')\n",
        "\n",
        "#trend is less certain when analyzing ya measure"
      ],
      "execution_count": 0,
      "outputs": []
    },
    {
      "cell_type": "code",
      "metadata": {
        "id": "qZ3QOd2j1Pvd",
        "colab_type": "code",
        "colab": {}
      },
      "source": [
        "years_bins = pd.cut(party_df['Year'], bins =10) \n",
        "t_bins = pd.cut(df['tT'], bins = 5)\n",
        "pd.crosstab(t_bins,[party_df['Majority_Quality'],party_df['unified_Congress']], normalize = 'columns')\n",
        "\n",
        "# Having the Executive in addition to unified control of Congress seems to add little/nothing to legislative agenda/ambitions (on pmT measure at least)\n",
        "# With tri-level majority, there is less variation in Session durations; Sessions also appear to trend to shorter duration when climbing the\n",
        "# three tiers (see below). So, one may expect punctual Sessions when one party contols the Executive, House and Senate\n",
        "\n",
        "# ** apply a chi2_contingency test**"
      ],
      "execution_count": 0,
      "outputs": []
    }
  ]
}